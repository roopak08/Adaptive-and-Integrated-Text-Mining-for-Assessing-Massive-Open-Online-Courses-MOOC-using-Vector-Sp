{
 "cells": [
  {
   "cell_type": "code",
   "execution_count": 1,
   "metadata": {},
   "outputs": [],
   "source": [
    "import numpy as np "
   ]
  },
  {
   "cell_type": "code",
   "execution_count": 2,
   "metadata": {},
   "outputs": [],
   "source": [
    "import pandas as pd"
   ]
  },
  {
   "cell_type": "code",
   "execution_count": 3,
   "metadata": {
    "_cell_guid": "b1076dfc-b9ad-4769-8c92-a6c4dae69d19",
    "_uuid": "8f2839f25d086af736a60e9eeb907d3b93b6e0e5",
    "execution": {
     "iopub.execute_input": "2021-01-05T23:41:09.494947Z",
     "iopub.status.busy": "2021-01-05T23:41:09.494287Z",
     "iopub.status.idle": "2021-01-05T23:41:09.505240Z",
     "shell.execute_reply": "2021-01-05T23:41:09.504520Z"
    },
    "papermill": {
     "duration": 0.031172,
     "end_time": "2021-01-05T23:41:09.505358",
     "exception": false,
     "start_time": "2021-01-05T23:41:09.474186",
     "status": "completed"
    },
    "tags": []
   },
   "outputs": [],
   "source": [
    "import os"
   ]
  },
  {
   "cell_type": "code",
   "execution_count": 4,
   "metadata": {},
   "outputs": [],
   "source": [
    "import random"
   ]
  },
  {
   "cell_type": "code",
   "execution_count": 5,
   "metadata": {},
   "outputs": [],
   "source": [
    "from sklearn.model_selection import train_test_split"
   ]
  },
  {
   "cell_type": "code",
   "execution_count": 6,
   "metadata": {},
   "outputs": [],
   "source": [
    "from sklearn.feature_extraction.text import CountVectorizer"
   ]
  },
  {
   "cell_type": "code",
   "execution_count": 7,
   "metadata": {},
   "outputs": [],
   "source": [
    "from sklearn.naive_bayes import MultinomialNB"
   ]
  },
  {
   "cell_type": "code",
   "execution_count": 8,
   "metadata": {},
   "outputs": [],
   "source": [
    "from tensorflow.keras.preprocessing import text"
   ]
  },
  {
   "cell_type": "code",
   "execution_count": 9,
   "metadata": {},
   "outputs": [],
   "source": [
    "from tensorflow.keras.preprocessing.text import Tokenizer"
   ]
  },
  {
   "cell_type": "code",
   "execution_count": 10,
   "metadata": {},
   "outputs": [],
   "source": [
    "from tensorflow.keras.models import Sequential"
   ]
  },
  {
   "cell_type": "code",
   "execution_count": 11,
   "metadata": {},
   "outputs": [],
   "source": [
    "from tensorflow.keras.layers import Embedding, Dense, Flatten"
   ]
  },
  {
   "cell_type": "code",
   "execution_count": 12,
   "metadata": {},
   "outputs": [],
   "source": [
    "from tensorflow.keras.preprocessing.sequence import pad_sequences"
   ]
  },
  {
   "cell_type": "code",
   "execution_count": 13,
   "metadata": {},
   "outputs": [],
   "source": [
    "from tensorflow.keras.layers import Embedding, Flatten, Dense, LSTM, Dropout, Bidirectional, Conv1D, MaxPooling1D"
   ]
  },
  {
   "cell_type": "code",
   "execution_count": 14,
   "metadata": {},
   "outputs": [],
   "source": [
    "from tensorflow.keras.utils import to_categorical"
   ]
  },
  {
   "cell_type": "code",
   "execution_count": 15,
   "metadata": {},
   "outputs": [],
   "source": [
    "from tensorflow.keras.callbacks import ModelCheckpoint"
   ]
  },
  {
   "cell_type": "code",
   "execution_count": 16,
   "metadata": {},
   "outputs": [],
   "source": [
    "from sklearn.preprocessing import LabelEncoder"
   ]
  },
  {
   "cell_type": "code",
   "execution_count": 17,
   "metadata": {},
   "outputs": [],
   "source": [
    "from sklearn.metrics import accuracy_score"
   ]
  },
  {
   "cell_type": "code",
   "execution_count": 18,
   "metadata": {},
   "outputs": [],
   "source": [
    "import seaborn as sns"
   ]
  },
  {
   "cell_type": "code",
   "execution_count": 19,
   "metadata": {},
   "outputs": [],
   "source": [
    "reviews = pd.read_csv('Dataset/Coursera_reviews.csv')\n",
    "courses = pd.read_csv('Dataset/Coursera_courses.csv')"
   ]
  },
  {
   "cell_type": "code",
   "execution_count": 20,
   "metadata": {},
   "outputs": [
    {
     "data": {
      "text/html": [
       "<div>\n",
       "<style scoped>\n",
       "    .dataframe tbody tr th:only-of-type {\n",
       "        vertical-align: middle;\n",
       "    }\n",
       "\n",
       "    .dataframe tbody tr th {\n",
       "        vertical-align: top;\n",
       "    }\n",
       "\n",
       "    .dataframe thead th {\n",
       "        text-align: right;\n",
       "    }\n",
       "</style>\n",
       "<table border=\"1\" class=\"dataframe\">\n",
       "  <thead>\n",
       "    <tr style=\"text-align: right;\">\n",
       "      <th></th>\n",
       "      <th>reviews</th>\n",
       "      <th>reviewers</th>\n",
       "      <th>date_reviews</th>\n",
       "      <th>rating</th>\n",
       "      <th>course_id</th>\n",
       "      <th>name</th>\n",
       "      <th>institution</th>\n",
       "      <th>course_url</th>\n",
       "    </tr>\n",
       "  </thead>\n",
       "  <tbody>\n",
       "    <tr>\n",
       "      <th>0</th>\n",
       "      <td>Pretty dry, but I was able to pass with just t...</td>\n",
       "      <td>By Robert S</td>\n",
       "      <td>Feb 12, 2020</td>\n",
       "      <td>4</td>\n",
       "      <td>google-cbrs-cpi-training</td>\n",
       "      <td>Become a CBRS Certified Professional Installer...</td>\n",
       "      <td>Google - Spectrum Sharing</td>\n",
       "      <td>https://www.coursera.org/learn/google-cbrs-cpi...</td>\n",
       "    </tr>\n",
       "    <tr>\n",
       "      <th>1</th>\n",
       "      <td>would be a better experience if the video and ...</td>\n",
       "      <td>By Gabriel E R</td>\n",
       "      <td>Sep 28, 2020</td>\n",
       "      <td>4</td>\n",
       "      <td>google-cbrs-cpi-training</td>\n",
       "      <td>Become a CBRS Certified Professional Installer...</td>\n",
       "      <td>Google - Spectrum Sharing</td>\n",
       "      <td>https://www.coursera.org/learn/google-cbrs-cpi...</td>\n",
       "    </tr>\n",
       "    <tr>\n",
       "      <th>2</th>\n",
       "      <td>Information was perfect! The program itself wa...</td>\n",
       "      <td>By Jacob D</td>\n",
       "      <td>Apr 08, 2020</td>\n",
       "      <td>4</td>\n",
       "      <td>google-cbrs-cpi-training</td>\n",
       "      <td>Become a CBRS Certified Professional Installer...</td>\n",
       "      <td>Google - Spectrum Sharing</td>\n",
       "      <td>https://www.coursera.org/learn/google-cbrs-cpi...</td>\n",
       "    </tr>\n",
       "    <tr>\n",
       "      <th>3</th>\n",
       "      <td>A few grammatical mistakes on test made me do ...</td>\n",
       "      <td>By Dale B</td>\n",
       "      <td>Feb 24, 2020</td>\n",
       "      <td>4</td>\n",
       "      <td>google-cbrs-cpi-training</td>\n",
       "      <td>Become a CBRS Certified Professional Installer...</td>\n",
       "      <td>Google - Spectrum Sharing</td>\n",
       "      <td>https://www.coursera.org/learn/google-cbrs-cpi...</td>\n",
       "    </tr>\n",
       "    <tr>\n",
       "      <th>4</th>\n",
       "      <td>Excellent course and the training provided was...</td>\n",
       "      <td>By Sean G</td>\n",
       "      <td>Jun 18, 2020</td>\n",
       "      <td>4</td>\n",
       "      <td>google-cbrs-cpi-training</td>\n",
       "      <td>Become a CBRS Certified Professional Installer...</td>\n",
       "      <td>Google - Spectrum Sharing</td>\n",
       "      <td>https://www.coursera.org/learn/google-cbrs-cpi...</td>\n",
       "    </tr>\n",
       "  </tbody>\n",
       "</table>\n",
       "</div>"
      ],
      "text/plain": [
       "                                             reviews       reviewers  \\\n",
       "0  Pretty dry, but I was able to pass with just t...     By Robert S   \n",
       "1  would be a better experience if the video and ...  By Gabriel E R   \n",
       "2  Information was perfect! The program itself wa...      By Jacob D   \n",
       "3  A few grammatical mistakes on test made me do ...       By Dale B   \n",
       "4  Excellent course and the training provided was...       By Sean G   \n",
       "\n",
       "   date_reviews  rating                 course_id  \\\n",
       "0  Feb 12, 2020       4  google-cbrs-cpi-training   \n",
       "1  Sep 28, 2020       4  google-cbrs-cpi-training   \n",
       "2  Apr 08, 2020       4  google-cbrs-cpi-training   \n",
       "3  Feb 24, 2020       4  google-cbrs-cpi-training   \n",
       "4  Jun 18, 2020       4  google-cbrs-cpi-training   \n",
       "\n",
       "                                                name  \\\n",
       "0  Become a CBRS Certified Professional Installer...   \n",
       "1  Become a CBRS Certified Professional Installer...   \n",
       "2  Become a CBRS Certified Professional Installer...   \n",
       "3  Become a CBRS Certified Professional Installer...   \n",
       "4  Become a CBRS Certified Professional Installer...   \n",
       "\n",
       "                 institution  \\\n",
       "0  Google - Spectrum Sharing   \n",
       "1  Google - Spectrum Sharing   \n",
       "2  Google - Spectrum Sharing   \n",
       "3  Google - Spectrum Sharing   \n",
       "4  Google - Spectrum Sharing   \n",
       "\n",
       "                                          course_url  \n",
       "0  https://www.coursera.org/learn/google-cbrs-cpi...  \n",
       "1  https://www.coursera.org/learn/google-cbrs-cpi...  \n",
       "2  https://www.coursera.org/learn/google-cbrs-cpi...  \n",
       "3  https://www.coursera.org/learn/google-cbrs-cpi...  \n",
       "4  https://www.coursera.org/learn/google-cbrs-cpi...  "
      ]
     },
     "execution_count": 20,
     "metadata": {},
     "output_type": "execute_result"
    }
   ],
   "source": [
    "merged_reviews_courses = pd.merge(reviews,courses,on = 'course_id')\n",
    "merged_reviews_courses.head()"
   ]
  },
  {
   "cell_type": "code",
   "execution_count": 21,
   "metadata": {},
   "outputs": [
    {
     "name": "stdout",
     "output_type": "stream",
     "text": [
      "(1454711, 8)\n"
     ]
    }
   ],
   "source": [
    "print(merged_reviews_courses.shape)"
   ]
  },
  {
   "cell_type": "code",
   "execution_count": 22,
   "metadata": {},
   "outputs": [
    {
     "data": {
      "text/plain": [
       "Programming for Everybody (Getting Started with Python)                           45218\n",
       "Machine Learning                                                                  35895\n",
       "Neural Networks and Deep Learning                                                 35750\n",
       "Technical Support Fundamentals                                                    35319\n",
       "Python Data Structures                                                            33546\n",
       "Learning How to Learn: Powerful mental tools to help you master tough subjects    32265\n",
       "AI For Everyone                                                                   21630\n",
       "Excel Skills for Business: Essentials                                             21251\n",
       "What is Data Science?                                                             21087\n",
       "The Science of Well-Being                                                         20085\n",
       "Name: name, dtype: int64"
      ]
     },
     "execution_count": 22,
     "metadata": {},
     "output_type": "execute_result"
    }
   ],
   "source": [
    "top_reviewed_courses = merged_reviews_courses.name.value_counts()\n",
    "top_reviewed_courses.head(10)"
   ]
  },
  {
   "cell_type": "code",
   "execution_count": 23,
   "metadata": {},
   "outputs": [
    {
     "data": {
      "text/plain": [
       "Index(['Programming for Everybody (Getting Started with Python)',\n",
       "       'Machine Learning', 'Neural Networks and Deep Learning',\n",
       "       'Technical Support Fundamentals', 'Python Data Structures',\n",
       "       'Learning How to Learn: Powerful mental tools to help you master tough subjects',\n",
       "       'AI For Everyone', 'Excel Skills for Business: Essentials',\n",
       "       'What is Data Science?', 'The Science of Well-Being',\n",
       "       ...\n",
       "       'COVID-19 Contact Tracing For Nursing Professionals',\n",
       "       'The Business of Product Management I',\n",
       "       'Spanish for Successful Communication in Healthcare Settings',\n",
       "       'Social and Economic Networks:  Models and Analysis',\n",
       "       'Curanderismo: Traditional Healing Using Plants',\n",
       "       'Introduction to Healthcare',\n",
       "       'Entrepreneurship Strategy: From Ideation to Exit',\n",
       "       'Epigenetic Control of Gene Expression',\n",
       "       'Entreprise et changement climatique',\n",
       "       'Building Modern Python Applications on AWS'],\n",
       "      dtype='object', length=603)"
      ]
     },
     "execution_count": 23,
     "metadata": {},
     "output_type": "execute_result"
    }
   ],
   "source": [
    "top_reviewed_courses.index"
   ]
  },
  {
   "cell_type": "code",
   "execution_count": 24,
   "metadata": {
    "scrolled": true
   },
   "outputs": [
    {
     "data": {
      "text/plain": [
       "<matplotlib.axes._subplots.AxesSubplot at 0x24d88228208>"
      ]
     },
     "execution_count": 24,
     "metadata": {},
     "output_type": "execute_result"
    },
    {
     "data": {
      "image/png": "[encoded data removed]",
      "text/plain": [
       "<Figure size 432x288 with 1 Axes>"
      ]
     },
     "metadata": {
      "needs_background": "light"
     },
     "output_type": "display_data"
    }
   ],
   "source": [
    "sns.barplot(x = top_reviewed_courses.head(10).values ,y =top_reviewed_courses.head(10).index)"
   ]
  },
  {
   "cell_type": "code",
   "execution_count": 25,
   "metadata": {},
   "outputs": [
    {
     "data": {
      "text/plain": [
       "<matplotlib.axes._subplots.AxesSubplot at 0x24d8a0b5588>"
      ]
     },
     "execution_count": 25,
     "metadata": {},
     "output_type": "execute_result"
    },
    {
     "data": {
      "image/png": "[encoded data removed]",
      "text/plain": [
       "<Figure size 432x288 with 1 Axes>"
      ]
     },
     "metadata": {
      "needs_background": "light"
     },
     "output_type": "display_data"
    }
   ],
   "source": [
    "sns.barplot(x = top_reviewed_courses.tail(10).values ,y =top_reviewed_courses.tail(10).index)"
   ]
  },
  {
   "cell_type": "code",
   "execution_count": 26,
   "metadata": {},
   "outputs": [
    {
     "data": {
      "text/plain": [
       "University of Michigan                167069\n",
       "DeepLearning.AI                       117029\n",
       "Google                                 78613\n",
       "IBM                                    70769\n",
       "University of Pennsylvania             70531\n",
       "Stanford University                    63504\n",
       "University of California San Diego     59589\n",
       "Johns Hopkins University               57149\n",
       "Yale University                        51850\n",
       "Google Cloud                           49285\n",
       "Name: institution, dtype: int64"
      ]
     },
     "execution_count": 26,
     "metadata": {},
     "output_type": "execute_result"
    }
   ],
   "source": [
    "top_reviewed_institution = merged_reviews_courses.institution.value_counts()\n",
    "top_reviewed_institution.head(10)"
   ]
  },
  {
   "cell_type": "code",
   "execution_count": 27,
   "metadata": {},
   "outputs": [
    {
     "data": {
      "text/plain": [
       "<matplotlib.axes._subplots.AxesSubplot at 0x24d8a167748>"
      ]
     },
     "execution_count": 27,
     "metadata": {},
     "output_type": "execute_result"
    },
    {
     "data": {
      "image/png": "[encoded data removed]",
      "text/plain": [
       "<Figure size 432x288 with 1 Axes>"
      ]
     },
     "metadata": {
      "needs_background": "light"
     },
     "output_type": "display_data"
    }
   ],
   "source": [
    "sns.barplot(x = top_reviewed_institution.head(10).values ,y =top_reviewed_institution.head(10).index)"
   ]
  },
  {
   "cell_type": "code",
   "execution_count": 28,
   "metadata": {},
   "outputs": [
    {
     "data": {
      "text/plain": [
       "<matplotlib.axes._subplots.AxesSubplot at 0x24d8a48e348>"
      ]
     },
     "execution_count": 28,
     "metadata": {},
     "output_type": "execute_result"
    },
    {
     "data": {
      "image/png": "[encoded data removed]",
      "text/plain": [
       "<Figure size 432x288 with 1 Axes>"
      ]
     },
     "metadata": {
      "needs_background": "light"
     },
     "output_type": "display_data"
    }
   ],
   "source": [
    "sns.barplot(x = top_reviewed_institution.tail(10).values ,y =top_reviewed_institution.tail(10).index)"
   ]
  },
  {
   "cell_type": "code",
   "execution_count": 29,
   "metadata": {},
   "outputs": [
    {
     "data": {
      "text/plain": [
       "institution\n",
       "GitLab                               5.000000\n",
       "UCL School of Management             4.948276\n",
       "Google - Spectrum Sharing            4.931034\n",
       "Hebrew University of Jerusalem       4.928451\n",
       "The University of Chicago            4.921771\n",
       "                                       ...   \n",
       "IE Business School                   4.012195\n",
       "Yandex                               3.424138\n",
       "New York Institute of Finance        3.402174\n",
       "Saint Petersburg State University    3.328431\n",
       "University of New Mexico             1.000000\n",
       "Name: rating, Length: 132, dtype: float64"
      ]
     },
     "execution_count": 29,
     "metadata": {},
     "output_type": "execute_result"
    }
   ],
   "source": [
    "merged_reviews_courses.groupby(['institution'])['rating'].mean().sort_values(ascending  = False)"
   ]
  },
  {
   "cell_type": "code",
   "execution_count": 30,
   "metadata": {
    "_cell_guid": "79c7e3d0-c299-4dcb-8224-4455121ee9b0",
    "_uuid": "d629ff2d2480ee46fbb7e2d37f6b5fab8052498a",
    "execution": {
     "iopub.execute_input": "2021-01-05T23:41:09.536738Z",
     "iopub.status.busy": "2021-01-05T23:41:09.536081Z",
     "iopub.status.idle": "2021-01-05T23:41:15.003349Z",
     "shell.execute_reply": "2021-01-05T23:41:15.001918Z"
    },
    "papermill": {
     "duration": 5.485946,
     "end_time": "2021-01-05T23:41:15.003495",
     "exception": false,
     "start_time": "2021-01-05T23:41:09.517549",
     "status": "completed"
    },
    "tags": []
   },
   "outputs": [],
   "source": [
    "df=pd.read_csv('Dataset/Coursera_reviews.csv')"
   ]
  },
  {
   "cell_type": "code",
   "execution_count": 31,
   "metadata": {
    "execution": {
     "iopub.execute_input": "2021-01-05T23:41:15.064777Z",
     "iopub.status.busy": "2021-01-05T23:41:15.063465Z",
     "iopub.status.idle": "2021-01-05T23:41:15.076030Z",
     "shell.execute_reply": "2021-01-05T23:41:15.075112Z"
    },
    "papermill": {
     "duration": 0.053211,
     "end_time": "2021-01-05T23:41:15.076155",
     "exception": false,
     "start_time": "2021-01-05T23:41:15.022944",
     "status": "completed"
    },
    "tags": []
   },
   "outputs": [
    {
     "data": {
      "text/html": [
       "<div>\n",
       "<style scoped>\n",
       "    .dataframe tbody tr th:only-of-type {\n",
       "        vertical-align: middle;\n",
       "    }\n",
       "\n",
       "    .dataframe tbody tr th {\n",
       "        vertical-align: top;\n",
       "    }\n",
       "\n",
       "    .dataframe thead th {\n",
       "        text-align: right;\n",
       "    }\n",
       "</style>\n",
       "<table border=\"1\" class=\"dataframe\">\n",
       "  <thead>\n",
       "    <tr style=\"text-align: right;\">\n",
       "      <th></th>\n",
       "      <th>reviews</th>\n",
       "      <th>reviewers</th>\n",
       "      <th>date_reviews</th>\n",
       "      <th>rating</th>\n",
       "      <th>course_id</th>\n",
       "    </tr>\n",
       "  </thead>\n",
       "  <tbody>\n",
       "    <tr>\n",
       "      <th>0</th>\n",
       "      <td>Pretty dry, but I was able to pass with just t...</td>\n",
       "      <td>By Robert S</td>\n",
       "      <td>Feb 12, 2020</td>\n",
       "      <td>4</td>\n",
       "      <td>google-cbrs-cpi-training</td>\n",
       "    </tr>\n",
       "    <tr>\n",
       "      <th>1</th>\n",
       "      <td>would be a better experience if the video and ...</td>\n",
       "      <td>By Gabriel E R</td>\n",
       "      <td>Sep 28, 2020</td>\n",
       "      <td>4</td>\n",
       "      <td>google-cbrs-cpi-training</td>\n",
       "    </tr>\n",
       "    <tr>\n",
       "      <th>2</th>\n",
       "      <td>Information was perfect! The program itself wa...</td>\n",
       "      <td>By Jacob D</td>\n",
       "      <td>Apr 08, 2020</td>\n",
       "      <td>4</td>\n",
       "      <td>google-cbrs-cpi-training</td>\n",
       "    </tr>\n",
       "    <tr>\n",
       "      <th>3</th>\n",
       "      <td>A few grammatical mistakes on test made me do ...</td>\n",
       "      <td>By Dale B</td>\n",
       "      <td>Feb 24, 2020</td>\n",
       "      <td>4</td>\n",
       "      <td>google-cbrs-cpi-training</td>\n",
       "    </tr>\n",
       "    <tr>\n",
       "      <th>4</th>\n",
       "      <td>Excellent course and the training provided was...</td>\n",
       "      <td>By Sean G</td>\n",
       "      <td>Jun 18, 2020</td>\n",
       "      <td>4</td>\n",
       "      <td>google-cbrs-cpi-training</td>\n",
       "    </tr>\n",
       "  </tbody>\n",
       "</table>\n",
       "</div>"
      ],
      "text/plain": [
       "                                             reviews       reviewers  \\\n",
       "0  Pretty dry, but I was able to pass with just t...     By Robert S   \n",
       "1  would be a better experience if the video and ...  By Gabriel E R   \n",
       "2  Information was perfect! The program itself wa...      By Jacob D   \n",
       "3  A few grammatical mistakes on test made me do ...       By Dale B   \n",
       "4  Excellent course and the training provided was...       By Sean G   \n",
       "\n",
       "   date_reviews  rating                 course_id  \n",
       "0  Feb 12, 2020       4  google-cbrs-cpi-training  \n",
       "1  Sep 28, 2020       4  google-cbrs-cpi-training  \n",
       "2  Apr 08, 2020       4  google-cbrs-cpi-training  \n",
       "3  Feb 24, 2020       4  google-cbrs-cpi-training  \n",
       "4  Jun 18, 2020       4  google-cbrs-cpi-training  "
      ]
     },
     "execution_count": 31,
     "metadata": {},
     "output_type": "execute_result"
    }
   ],
   "source": [
    "df.head(5)"
   ]
  },
  {
   "cell_type": "code",
   "execution_count": 32,
   "metadata": {},
   "outputs": [
    {
     "data": {
      "text/plain": [
       "(1454711, 5)"
      ]
     },
     "execution_count": 32,
     "metadata": {},
     "output_type": "execute_result"
    }
   ],
   "source": [
    "df.shape"
   ]
  },
  {
   "cell_type": "code",
   "execution_count": 33,
   "metadata": {},
   "outputs": [
    {
     "data": {
      "text/plain": [
       "reviews          True\n",
       "reviewers       False\n",
       "date_reviews    False\n",
       "rating          False\n",
       "course_id       False\n",
       "dtype: bool"
      ]
     },
     "execution_count": 33,
     "metadata": {},
     "output_type": "execute_result"
    }
   ],
   "source": [
    "df.isna().any()"
   ]
  },
  {
   "cell_type": "code",
   "execution_count": 34,
   "metadata": {},
   "outputs": [
    {
     "data": {
      "text/plain": [
       "reviews         140\n",
       "reviewers         0\n",
       "date_reviews      0\n",
       "rating            0\n",
       "course_id         0\n",
       "dtype: int64"
      ]
     },
     "execution_count": 34,
     "metadata": {},
     "output_type": "execute_result"
    }
   ],
   "source": [
    "df.isna().sum()"
   ]
  },
  {
   "cell_type": "code",
   "execution_count": 35,
   "metadata": {
    "execution": {
     "iopub.execute_input": "2021-01-05T23:41:15.734625Z",
     "iopub.status.busy": "2021-01-05T23:41:15.733808Z",
     "iopub.status.idle": "2021-01-05T23:41:15.884989Z",
     "shell.execute_reply": "2021-01-05T23:41:15.884100Z"
    },
    "papermill": {
     "duration": 0.793573,
     "end_time": "2021-01-05T23:41:15.885114",
     "exception": false,
     "start_time": "2021-01-05T23:41:15.091541",
     "status": "completed"
    },
    "tags": []
   },
   "outputs": [],
   "source": [
    "df.dropna(inplace=True)"
   ]
  },
  {
   "cell_type": "code",
   "execution_count": 36,
   "metadata": {
    "execution": {
     "iopub.execute_input": "2021-01-05T23:41:15.918258Z",
     "iopub.status.busy": "2021-01-05T23:41:15.917467Z",
     "iopub.status.idle": "2021-01-05T23:41:15.925555Z",
     "shell.execute_reply": "2021-01-05T23:41:15.924870Z"
    },
    "papermill": {
     "duration": 0.027341,
     "end_time": "2021-01-05T23:41:15.925734",
     "exception": false,
     "start_time": "2021-01-05T23:41:15.898393",
     "status": "completed"
    },
    "tags": []
   },
   "outputs": [
    {
     "data": {
      "text/plain": [
       "'very helpful informative course to get CPI certificate'"
      ]
     },
     "execution_count": 36,
     "metadata": {},
     "output_type": "execute_result"
    }
   ],
   "source": [
    "df['reviews'][20]"
   ]
  },
  {
   "cell_type": "code",
   "execution_count": 37,
   "metadata": {
    "execution": {
     "iopub.execute_input": "2021-01-05T23:41:16.050700Z",
     "iopub.status.busy": "2021-01-05T23:41:16.049700Z",
     "iopub.status.idle": "2021-01-05T23:41:16.111012Z",
     "shell.execute_reply": "2021-01-05T23:41:16.110079Z"
    },
    "papermill": {
     "duration": 0.166992,
     "end_time": "2021-01-05T23:41:16.111140",
     "exception": false,
     "start_time": "2021-01-05T23:41:15.944148",
     "status": "completed"
    },
    "tags": []
   },
   "outputs": [
    {
     "name": "stdout",
     "output_type": "stream",
     "text": [
      "(604,)\n",
      "(5,)\n"
     ]
    }
   ],
   "source": [
    "print(df['course_id'].unique().shape)\n",
    "print(df['rating'].unique().shape)"
   ]
  },
  {
   "cell_type": "code",
   "execution_count": 38,
   "metadata": {},
   "outputs": [],
   "source": [
    "MAX_WORDS = 8000 "
   ]
  },
  {
   "cell_type": "code",
   "execution_count": 39,
   "metadata": {},
   "outputs": [
    {
     "data": {
      "text/plain": [
       "\"Pretty dry, but I was able to pass with just two complete watches so I'm happy about that.  As usual there were some questions on the final exam that were NO WHERE in the course, which is annoying but far better than many microsoft tests I have taken.  Never found the suplimental material that the course references... but who cares... i passed!\""
      ]
     },
     "execution_count": 39,
     "metadata": {},
     "output_type": "execute_result"
    }
   ],
   "source": [
    "df['reviews'][0]"
   ]
  },
  {
   "cell_type": "code",
   "execution_count": 40,
   "metadata": {},
   "outputs": [],
   "source": [
    "vectorizer = CountVectorizer()\n",
    "counts = vectorizer.fit_transform(df['reviews'])"
   ]
  },
  {
   "cell_type": "code",
   "execution_count": 41,
   "metadata": {
    "execution": {
     "iopub.execute_input": "2021-01-05T23:41:16.146763Z",
     "iopub.status.busy": "2021-01-05T23:41:16.146130Z",
     "iopub.status.idle": "2021-01-05T23:42:05.090071Z",
     "shell.execute_reply": "2021-01-05T23:42:05.090576Z"
    },
    "papermill": {
     "duration": 48.965323,
     "end_time": "2021-01-05T23:42:05.090721",
     "exception": false,
     "start_time": "2021-01-05T23:41:16.125398",
     "status": "completed"
    },
    "tags": []
   },
   "outputs": [
    {
     "data": {
      "text/plain": [
       "0.8114154895364506"
      ]
     },
     "execution_count": 41,
     "metadata": {},
     "output_type": "execute_result"
    }
   ],
   "source": [
    "x_train,x_test,y_train,y_test=train_test_split(counts,df['rating'],test_size=0.3)\n",
    "classifier = MultinomialNB()\n",
    "model=classifier.fit(x_train,y_train)\n",
    "model.score(x_test,y_test)"
   ]
  },
  {
   "cell_type": "code",
   "execution_count": 42,
   "metadata": {
    "execution": {
     "iopub.execute_input": "2021-01-05T23:42:05.125572Z",
     "iopub.status.busy": "2021-01-05T23:42:05.124639Z",
     "iopub.status.idle": "2021-01-05T23:42:05.128499Z",
     "shell.execute_reply": "2021-01-05T23:42:05.127848Z"
    },
    "papermill": {
     "duration": 0.023727,
     "end_time": "2021-01-05T23:42:05.128610",
     "exception": false,
     "start_time": "2021-01-05T23:42:05.104883",
     "status": "completed"
    },
    "tags": []
   },
   "outputs": [
    {
     "data": {
      "text/plain": [
       "<1x108508 sparse matrix of type '<class 'numpy.int64'>'\n",
       "\twith 22 stored elements in Compressed Sparse Row format>"
      ]
     },
     "execution_count": 42,
     "metadata": {},
     "output_type": "execute_result"
    }
   ],
   "source": [
    "x_train[1]"
   ]
  },
  {
   "cell_type": "code",
   "execution_count": 43,
   "metadata": {
    "execution": {
     "iopub.execute_input": "2021-01-05T23:42:05.164209Z",
     "iopub.status.busy": "2021-01-05T23:42:05.163197Z",
     "iopub.status.idle": "2021-01-05T23:42:05.167753Z",
     "shell.execute_reply": "2021-01-05T23:42:05.167130Z"
    },
    "papermill": {
     "duration": 0.024381,
     "end_time": "2021-01-05T23:42:05.167861",
     "exception": false,
     "start_time": "2021-01-05T23:42:05.143480",
     "status": "completed"
    },
    "tags": []
   },
   "outputs": [
    {
     "data": {
      "text/plain": [
       "array([ 12137.,  11468.,  33816., 158858., 801920.])"
      ]
     },
     "execution_count": 43,
     "metadata": {},
     "output_type": "execute_result"
    }
   ],
   "source": [
    "model.class_count_"
   ]
  },
  {
   "cell_type": "code",
   "execution_count": 44,
   "metadata": {
    "execution": {
     "iopub.execute_input": "2021-01-05T23:42:05.205042Z",
     "iopub.status.busy": "2021-01-05T23:42:05.204050Z",
     "iopub.status.idle": "2021-01-05T23:42:05.210322Z",
     "shell.execute_reply": "2021-01-05T23:42:05.209756Z"
    },
    "papermill": {
     "duration": 0.02713,
     "end_time": "2021-01-05T23:42:05.210430",
     "exception": false,
     "start_time": "2021-01-05T23:42:05.183300",
     "status": "completed"
    },
    "tags": []
   },
   "outputs": [
    {
     "data": {
      "text/plain": [
       "array([5], dtype=int64)"
      ]
     },
     "execution_count": 44,
     "metadata": {},
     "output_type": "execute_result"
    }
   ],
   "source": [
    "examples=['The course is perfect and I liked it, very engaging and fun!']\n",
    "example_counts = vectorizer.transform(examples)\n",
    "predictions = classifier.predict(example_counts)\n",
    "predictions"
   ]
  },
  {
   "cell_type": "code",
   "execution_count": 45,
   "metadata": {},
   "outputs": [],
   "source": [
    "vectorizer = CountVectorizer(stop_words='english',min_df=30)\n",
    "counts = vectorizer.fit_transform(df['reviews'])"
   ]
  },
  {
   "cell_type": "code",
   "execution_count": 46,
   "metadata": {
    "execution": {
     "iopub.execute_input": "2021-01-05T23:42:05.321326Z",
     "iopub.status.busy": "2021-01-05T23:42:05.289571Z",
     "iopub.status.idle": "2021-01-05T23:42:47.222120Z",
     "shell.execute_reply": "2021-01-05T23:42:47.222662Z"
    },
    "papermill": {
     "duration": 41.997004,
     "end_time": "2021-01-05T23:42:47.222844",
     "exception": false,
     "start_time": "2021-01-05T23:42:05.225840",
     "status": "completed"
    },
    "tags": []
   },
   "outputs": [
    {
     "data": {
      "text/plain": [
       "0.7935752064752092"
      ]
     },
     "execution_count": 46,
     "metadata": {},
     "output_type": "execute_result"
    }
   ],
   "source": [
    "x_train,x_test,y_train,y_test=train_test_split(counts,df['rating'],test_size=0.3)\n",
    "classifier = MultinomialNB()\n",
    "model=classifier.fit(x_train,y_train)\n",
    "model.score(x_test,y_test)"
   ]
  },
  {
   "cell_type": "code",
   "execution_count": 47,
   "metadata": {},
   "outputs": [],
   "source": [
    "vectorizer = CountVectorizer(stop_words='english')\n",
    "counts = vectorizer.fit_transform(df['reviews'])"
   ]
  },
  {
   "cell_type": "code",
   "execution_count": 48,
   "metadata": {
    "execution": {
     "iopub.execute_input": "2021-01-05T23:42:47.258572Z",
     "iopub.status.busy": "2021-01-05T23:42:47.257919Z",
     "iopub.status.idle": "2021-01-05T23:43:29.252537Z",
     "shell.execute_reply": "2021-01-05T23:43:29.253076Z"
    },
    "papermill": {
     "duration": 42.014149,
     "end_time": "2021-01-05T23:43:29.253227",
     "exception": false,
     "start_time": "2021-01-05T23:42:47.239078",
     "status": "completed"
    },
    "tags": []
   },
   "outputs": [
    {
     "data": {
      "text/plain": [
       "0.8061905896803645"
      ]
     },
     "execution_count": 48,
     "metadata": {},
     "output_type": "execute_result"
    }
   ],
   "source": [
    "x_train,x_test,y_train,y_test=train_test_split(counts,df['rating'],test_size=0.3)\n",
    "classifier = MultinomialNB()\n",
    "model=classifier.fit(x_train,y_train)\n",
    "model.score(x_test,y_test)"
   ]
  },
  {
   "cell_type": "code",
   "execution_count": 49,
   "metadata": {
    "execution": {
     "iopub.execute_input": "2021-01-05T23:43:29.293287Z",
     "iopub.status.busy": "2021-01-05T23:43:29.292317Z",
     "iopub.status.idle": "2021-01-05T23:43:29.299049Z",
     "shell.execute_reply": "2021-01-05T23:43:29.299667Z"
    },
    "papermill": {
     "duration": 0.030081,
     "end_time": "2021-01-05T23:43:29.299800",
     "exception": false,
     "start_time": "2021-01-05T23:43:29.269719",
     "status": "completed"
    },
    "tags": []
   },
   "outputs": [
    {
     "data": {
      "text/plain": [
       "array([3], dtype=int64)"
      ]
     },
     "execution_count": 49,
     "metadata": {},
     "output_type": "execute_result"
    }
   ],
   "source": [
    "def get_pred(word):\n",
    "    examples=[word]\n",
    "    example_counts = vectorizer.transform(examples)\n",
    "    predictions = classifier.predict(example_counts)\n",
    "    return predictions\n",
    "\n",
    "get_pred('I hate it, boring and tedious')"
   ]
  },
  {
   "cell_type": "code",
   "execution_count": 50,
   "metadata": {
    "execution": {
     "iopub.execute_input": "2021-01-05T23:43:29.340175Z",
     "iopub.status.busy": "2021-01-05T23:43:29.339184Z",
     "iopub.status.idle": "2021-01-05T23:43:29.343174Z",
     "shell.execute_reply": "2021-01-05T23:43:29.342491Z"
    },
    "papermill": {
     "duration": 0.026285,
     "end_time": "2021-01-05T23:43:29.343291",
     "exception": false,
     "start_time": "2021-01-05T23:43:29.317006",
     "status": "completed"
    },
    "tags": []
   },
   "outputs": [],
   "source": [
    "def get_pred_from_test(word):\n",
    "    predictions = classifier.predict(word)\n",
    "    return predictions"
   ]
  },
  {
   "cell_type": "code",
   "execution_count": 51,
   "metadata": {},
   "outputs": [
    {
     "data": {
      "text/plain": [
       "pandas.core.series.Series"
      ]
     },
     "execution_count": 51,
     "metadata": {},
     "output_type": "execute_result"
    }
   ],
   "source": [
    "type(y_test)"
   ]
  },
  {
   "cell_type": "code",
   "execution_count": 52,
   "metadata": {},
   "outputs": [
    {
     "data": {
      "text/plain": [
       "436372"
      ]
     },
     "execution_count": 52,
     "metadata": {},
     "output_type": "execute_result"
    }
   ],
   "source": [
    "len(y_test)"
   ]
  },
  {
   "cell_type": "code",
   "execution_count": 53,
   "metadata": {
    "execution": {
     "iopub.execute_input": "2021-01-05T23:43:29.383792Z",
     "iopub.status.busy": "2021-01-05T23:43:29.382874Z",
     "iopub.status.idle": "2021-01-05T23:43:29.426199Z",
     "shell.execute_reply": "2021-01-05T23:43:29.425113Z"
    },
    "papermill": {
     "duration": 0.065863,
     "end_time": "2021-01-05T23:43:29.426375",
     "exception": false,
     "start_time": "2021-01-05T23:43:29.360512",
     "status": "completed"
    },
    "tags": []
   },
   "outputs": [
    {
     "name": "stdout",
     "output_type": "stream",
     "text": [
      "3\n"
     ]
    }
   ],
   "source": [
    "print(int(get_pred_from_test(x_test[1])))"
   ]
  },
  {
   "cell_type": "code",
   "execution_count": 54,
   "metadata": {
    "execution": {
     "iopub.execute_input": "2021-01-05T23:43:29.471223Z",
     "iopub.status.busy": "2021-01-05T23:43:29.470164Z",
     "iopub.status.idle": "2021-01-05T23:43:29.694005Z",
     "shell.execute_reply": "2021-01-05T23:43:29.693410Z"
    },
    "papermill": {
     "duration": 0.24905,
     "end_time": "2021-01-05T23:43:29.694138",
     "exception": false,
     "start_time": "2021-01-05T23:43:29.445088",
     "status": "completed"
    },
    "tags": []
   },
   "outputs": [
    {
     "name": "stdout",
     "output_type": "stream",
     "text": [
      "comment : Information was perfect! The program itself was a little annoying. I had to wait 30 to 45 minutes after watching the videos to to take the quiz. Other than that the information was perfect and passed the test with no issues! \n",
      " prediction :  [4] \n",
      " actual :  4\n",
      "comment : Some of the quizzes contained material not explicitly covered in the course.  \n",
      " prediction :  [4] \n",
      " actual :  4\n",
      "comment : Probably the best certification course I've taken in this respect. The course is planned out carefully, and I believe gave me everything I needed to ace my exam the first time around. The trainer for the majority of the course was awesome. She delivered the material in a great, professional mannor, but was never boring or monotoned.  \n",
      " prediction :  [5] \n",
      " actual :  5\n",
      "comment : Great course, lectures were straight forward and easy to follow along.  The course provided all the information necessary to pass the CPI examination for certification. \n",
      " prediction :  [5] \n",
      " actual :  5\n",
      "comment : The course was straight forward and prepared me for the CPI exam. The course provided everything I needed to pass the exam. Thanks Google... thanks Coursera. \n",
      " prediction :  [5] \n",
      " actual :  5\n",
      "comment : Well presented course material that takes you step by step through the required learning.  \n",
      " prediction :  [5] \n",
      " actual :  5\n",
      "comment : Course is easy enough if you have a basic background of installing wireless equipment. \n",
      " prediction :  [5] \n",
      " actual :  5\n",
      "comment : The instructions were clear and concise. I enjoyed the learning process. \n",
      " prediction :  [5] \n",
      " actual :  5\n",
      "comment : Easy to follow. Did a good job at teaching me the material.  \n",
      " prediction :  [5] \n",
      " actual :  5\n",
      "comment : Excellent Training, More than enough to pass the test. \n",
      " prediction :  [5] \n",
      " actual :  5\n",
      "comment : very helpful informative course to get CPI certificate \n",
      " prediction :  [5] \n",
      " actual :  5\n",
      "comment : Material covered well, and easy to use application. \n",
      " prediction :  [5] \n",
      " actual :  5\n",
      "comment : easy to follow along with and understand \n",
      " prediction :  [5] \n",
      " actual :  5\n",
      "comment : online learning was great \n",
      " prediction :  [5] \n",
      " actual :  5\n",
      "comment : Very well explained. \n",
      " prediction :  [5] \n",
      " actual :  5\n",
      "comment : Excellent course! \n",
      " prediction :  [5] \n",
      " actual :  5\n",
      "comment : Great course. \n",
      " prediction :  [5] \n",
      " actual :  5\n",
      "comment : Great course  \n",
      " prediction :  [5] \n",
      " actual :  5\n",
      "comment : Great course \n",
      " prediction :  [5] \n",
      " actual :  5\n",
      "comment : Great course \n",
      " prediction :  [5] \n",
      " actual :  5\n",
      "comment : Probably the best certification course I've taken in this respect. The course is planned out carefully, and I believe gave me everything I needed to ace my exam the first time around. The trainer for the majority of the course was awesome. She delivered the material in a great, professional mannor, but was never boring or monotoned.  \n",
      " prediction :  [5] \n",
      " actual :  5\n",
      "comment : Great course, lectures were straight forward and easy to follow along.  The course provided all the information necessary to pass the CPI examination for certification. \n",
      " prediction :  [5] \n",
      " actual :  5\n",
      "comment : The course was straight forward and prepared me for the CPI exam. The course provided everything I needed to pass the exam. Thanks Google... thanks Coursera. \n",
      " prediction :  [5] \n",
      " actual :  5\n",
      "comment : Well presented course material that takes you step by step through the required learning.  \n",
      " prediction :  [5] \n",
      " actual :  5\n",
      "comment : Course is easy enough if you have a basic background of installing wireless equipment. \n",
      " prediction :  [5] \n",
      " actual :  5\n",
      "comment : The instructions were clear and concise. I enjoyed the learning process. \n",
      " prediction :  [5] \n",
      " actual :  5\n",
      "comment : Easy to follow. Did a good job at teaching me the material.  \n",
      " prediction :  [5] \n",
      " actual :  5\n",
      "comment : Excellent Training, More than enough to pass the test. \n",
      " prediction :  [5] \n",
      " actual :  5\n",
      "comment : very helpful informative course to get CPI certificate \n",
      " prediction :  [5] \n",
      " actual :  5\n",
      "comment : Material covered well, and easy to use application. \n",
      " prediction :  [5] \n",
      " actual :  5\n",
      "comment : easy to follow along with and understand \n",
      " prediction :  [5] \n",
      " actual :  5\n",
      "comment : online learning was great \n",
      " prediction :  [5] \n",
      " actual :  5\n",
      "comment : Very well explained. \n",
      " prediction :  [5] \n",
      " actual :  5\n",
      "comment : Excellent course! \n",
      " prediction :  [5] \n",
      " actual :  5\n",
      "comment : Great course. \n",
      " prediction :  [5] \n",
      " actual :  5\n",
      "comment : Great course  \n",
      " prediction :  [5] \n",
      " actual :  5\n",
      "comment : Great course \n",
      " prediction :  [5] \n",
      " actual :  5\n",
      "comment : Great course \n",
      " prediction :  [5] \n",
      " actual :  5\n",
      "comment : Probably the best certification course I've taken in this respect. The course is planned out carefully, and I believe gave me everything I needed to ace my exam the first time around. The trainer for the majority of the course was awesome. She delivered the material in a great, professional mannor, but was never boring or monotoned.  \n",
      " prediction :  [5] \n",
      " actual :  5\n",
      "comment : Great course, lectures were straight forward and easy to follow along.  The course provided all the information necessary to pass the CPI examination for certification. \n",
      " prediction :  [5] \n",
      " actual :  5\n",
      "comment : The course was straight forward and prepared me for the CPI exam. The course provided everything I needed to pass the exam. Thanks Google... thanks Coursera. \n",
      " prediction :  [5] \n",
      " actual :  5\n",
      "comment : Well presented course material that takes you step by step through the required learning.  \n",
      " prediction :  [5] \n",
      " actual :  5\n",
      "comment : Course is easy enough if you have a basic background of installing wireless equipment. \n",
      " prediction :  [5] \n",
      " actual :  5\n",
      "comment : The instructions were clear and concise. I enjoyed the learning process. \n",
      " prediction :  [5] \n",
      " actual :  5\n",
      "comment : Easy to follow. Did a good job at teaching me the material.  \n",
      " prediction :  [5] \n",
      " actual :  5\n",
      "comment : Excellent Training, More than enough to pass the test. \n",
      " prediction :  [5] \n",
      " actual :  5\n",
      "comment : very helpful informative course to get CPI certificate \n",
      " prediction :  [5] \n",
      " actual :  5\n",
      "comment : Material covered well, and easy to use application. \n",
      " prediction :  [5] \n",
      " actual :  5\n",
      "comment : easy to follow along with and understand \n",
      " prediction :  [5] \n",
      " actual :  5\n",
      "comment : online learning was great \n",
      " prediction :  [5] \n",
      " actual :  5\n",
      "comment : Very well explained. \n",
      " prediction :  [5] \n",
      " actual :  5\n",
      "comment : Excellent course! \n",
      " prediction :  [5] \n",
      " actual :  5\n",
      "comment : Great course. \n",
      " prediction :  [5] \n",
      " actual :  5\n",
      "comment : Great course  \n",
      " prediction :  [5] \n",
      " actual :  5\n",
      "comment : Great course \n",
      " prediction :  [5] \n",
      " actual :  5\n",
      "comment : Great course \n",
      " prediction :  [5] \n",
      " actual :  5\n",
      "comment : Great Job! \n",
      " prediction :  [5] \n",
      " actual :  5\n",
      "comment : WOOOO \n",
      " prediction :  [5] \n",
      " actual :  5\n",
      "comment : Great Job! \n",
      " prediction :  [5] \n",
      " actual :  5\n",
      "comment : WOOOO \n",
      " prediction :  [5] \n",
      " actual :  5\n",
      "comment : Great Job! \n",
      " prediction :  [5] \n",
      " actual :  5\n",
      "comment : WOOOO \n",
      " prediction :  [5] \n",
      " actual :  5\n",
      "comment : This course is virtually worthless. I couldn't follow the lectures, and I have a PhD and have been a tenured professor for almost two decades. The online course is based on snippets taken from face-to-face lectures and breakout sessions, and the result is utter incoherence. The instructor frequently refers to concepts that have not yet been encountered in the online version of the course; makes extensive use of mathematical notations and formulas whose variables are never properly explained; and generally does a poor job of explaining the material. This online version of the Yale course was obviously slapped together with very little thought and production value; it's one of those unsuccessful attempts to bring in revenue on the cheap, creating an online version out of existing face-to-face material, rather than building a real online course from scratch. This was wasted money and time. This attempt to capitalize on the Yale brand is pathetic.     \n",
      " prediction :  [1] \n",
      " actual :  1\n",
      "comment : This course was horrible! The Content was very disoriented and unclear. Videos were distorted, and jumping from one topic to another. There was no sense of continuity. One can not say this was a course from Yale... \n",
      " prediction :  [1] \n",
      " actual :  1\n",
      "comment : Terrible lecturer. Maybe he should retire. He can't stay on point. Lectures are unwatchable - except for the beautiful auditorium stage. \n",
      " prediction :  [1] \n",
      " actual :  1\n",
      "comment : I was expecting more from the course. It is very unstrucuted and even misses a complete table of contents. Having paid for this course I would also have expected some manuscripts or at least a copy of the (rather unusable) slides.However the course gives a broad overview of financial topics and probably also mentions most of the concepts of key words. Unfortunately, Prof. Shiller fails to give adequate and precise definitions most of the time. They could have been included in the slides to help the students to learn in a more strucured manner. Probably the best thing about the course (for me) was that he recommended to read Nassim Taleb's works, which I did, and his books (in combination with reading up on definitions on wikipedia) really offer a lot more understanding than this course.I would recommended to consult anyone to consult a standard text-book on finance and the works of Nassim Taleb to spice things up, rather than to take this course. \n",
      " prediction :  [1] \n",
      " actual :  1\n",
      "comment : Poorly produced.  \n",
      " prediction :  [1] \n",
      " actual :  1\n",
      "comment : Don't waste your time! It's unstructured pile of videos recorded from face-to-face teaching. No explanations, no order, no structure, nothing. \n",
      " prediction :  [1] \n",
      " actual :  1\n",
      "comment : As it was highlighted as free course with certification for MOOC.I haven't received course completion certificate though my course has been fully completed. This issue needs to be addressed as why Coursera is not issuing course completion certification as promised  during COVID 19..Such a cheating to all the candidate to enroll for any course.This is not acceptable at all. \n",
      " prediction :  [1] \n",
      " actual :  1\n"
     ]
    },
    {
     "name": "stdout",
     "output_type": "stream",
     "text": [
      "comment : Not at all legitimate course. The concepts and principles of the course, instructor are not clear. I'm a stock market trader and in one of his quiz the answer of one his question was stop loss at 50% value down. According to this very soon you will find yourself at the footpark. More over he's find out to be staying in the history all the time. \n",
      " prediction :  [1] \n",
      " actual :  1\n"
     ]
    }
   ],
   "source": [
    "for i in range(1,101):\n",
    "    if int(get_pred(df['reviews'][i])) == df['rating'][i]:\n",
    "        print('comment :', df['reviews'][i],'\\n',\n",
    "              'prediction : ',get_pred(df['reviews'][i]),'\\n',\n",
    "              'actual : ',df['rating'][i])"
   ]
  },
  {
   "cell_type": "code",
   "execution_count": 55,
   "metadata": {},
   "outputs": [],
   "source": [
    "t = Tokenizer(num_words=MAX_WORDS)"
   ]
  },
  {
   "cell_type": "code",
   "execution_count": 56,
   "metadata": {},
   "outputs": [],
   "source": [
    "t.fit_on_texts(df['reviews'])"
   ]
  },
  {
   "cell_type": "code",
   "execution_count": 57,
   "metadata": {},
   "outputs": [
    {
     "data": {
      "text/plain": [
       "{'the': 1,\n",
       " 'and': 2,\n",
       " 'to': 3,\n",
       " 'course': 4,\n",
       " 'a': 5,\n",
       " 'i': 6,\n",
       " 'of': 7,\n",
       " 'this': 8,\n",
       " 'in': 9,\n",
       " 'is': 10,\n",
       " 'it': 11,\n",
       " 'for': 12,\n",
       " 'very': 13,\n",
       " 'you': 14,\n",
       " 'was': 15,\n",
       " 'great': 16,\n",
       " 'good': 17,\n",
       " 'that': 18,\n",
       " 'with': 19,\n",
       " 'me': 20,\n",
       " 'are': 21,\n",
       " 'on': 22,\n",
       " 'have': 23,\n",
       " 'really': 24,\n",
       " 'learning': 25,\n",
       " 'my': 26,\n",
       " 'but': 27,\n",
       " 'more': 28,\n",
       " 'be': 29,\n",
       " 'as': 30,\n",
       " 'well': 31,\n",
       " 'not': 32,\n",
       " 'thank': 33,\n",
       " 'about': 34,\n",
       " 'excellent': 35,\n",
       " 'lot': 36,\n",
       " 'so': 37,\n",
       " 'learn': 38,\n",
       " 'an': 39,\n",
       " 'de': 40,\n",
       " 'all': 41,\n",
       " 'from': 42,\n",
       " 'how': 43,\n",
       " 'much': 44,\n",
       " 'some': 45,\n",
       " 'understand': 46,\n",
       " 'would': 47,\n",
       " 'curso': 48,\n",
       " 'y': 49,\n",
       " 'easy': 50,\n",
       " 'thanks': 51,\n",
       " 'can': 52,\n",
       " 'like': 53,\n",
       " 'interesting': 54,\n",
       " 'were': 55,\n",
       " 'learned': 56,\n",
       " 'way': 57,\n",
       " 'useful': 58,\n",
       " 'will': 59,\n",
       " 'knowledge': 60,\n",
       " 'one': 61,\n",
       " 'que': 62,\n",
       " 'who': 63,\n",
       " 'if': 64,\n",
       " 'what': 65,\n",
       " 'also': 66,\n",
       " 'helpful': 67,\n",
       " 'best': 68,\n",
       " 'by': 69,\n",
       " 'data': 70,\n",
       " 'python': 71,\n",
       " 'muy': 72,\n",
       " 'at': 73,\n",
       " 'amazing': 74,\n",
       " 'concepts': 75,\n",
       " 'content': 76,\n",
       " 'recommend': 77,\n",
       " 'time': 78,\n",
       " 'which': 79,\n",
       " 'programming': 80,\n",
       " 'has': 81,\n",
       " 'experience': 82,\n",
       " 'assignments': 83,\n",
       " 'am': 84,\n",
       " 'nice': 85,\n",
       " 'or': 86,\n",
       " 'your': 87,\n",
       " 'courses': 88,\n",
       " 'videos': 89,\n",
       " 'get': 90,\n",
       " 'material': 91,\n",
       " 'enjoyed': 92,\n",
       " \"it's\": 93,\n",
       " 'en': 94,\n",
       " 'el': 95,\n",
       " 'do': 96,\n",
       " 'new': 97,\n",
       " 'la': 98,\n",
       " 'coursera': 99,\n",
       " 'just': 100,\n",
       " 'there': 101,\n",
       " 'introduction': 102,\n",
       " 'information': 103,\n",
       " 'many': 104,\n",
       " 'basic': 105,\n",
       " 'para': 106,\n",
       " 'no': 107,\n",
       " 'informative': 108,\n",
       " 'professor': 109,\n",
       " 'had': 110,\n",
       " 'into': 111,\n",
       " 'things': 112,\n",
       " 'better': 113,\n",
       " 'clear': 114,\n",
       " 'excelente': 115,\n",
       " 'work': 116,\n",
       " 'understanding': 117,\n",
       " 'machine': 118,\n",
       " 'been': 119,\n",
       " 'too': 120,\n",
       " 'help': 121,\n",
       " 'could': 122,\n",
       " 'awesome': 123,\n",
       " 'they': 124,\n",
       " 'know': 125,\n",
       " 'class': 126,\n",
       " 'think': 127,\n",
       " 'instructor': 128,\n",
       " 'only': 129,\n",
       " 'examples': 130,\n",
       " 'lectures': 131,\n",
       " 'highly': 132,\n",
       " 'other': 133,\n",
       " 'first': 134,\n",
       " 'un': 135,\n",
       " 'explained': 136,\n",
       " 'los': 137,\n",
       " 'science': 138,\n",
       " 'teaching': 139,\n",
       " 'beginners': 140,\n",
       " 'up': 141,\n",
       " 'take': 142,\n",
       " 'life': 143,\n",
       " 'use': 144,\n",
       " 'start': 145,\n",
       " 'practical': 146,\n",
       " 'through': 147,\n",
       " 'helped': 148,\n",
       " 'even': 149,\n",
       " 'should': 150,\n",
       " 'than': 151,\n",
       " 'loved': 152,\n",
       " 'andrew': 153,\n",
       " 'its': 154,\n",
       " 'basics': 155,\n",
       " 'dr': 156,\n",
       " 'people': 157,\n",
       " 'such': 158,\n",
       " 'we': 159,\n",
       " 'make': 160,\n",
       " 'most': 161,\n",
       " 'bit': 162,\n",
       " 'es': 163,\n",
       " 'made': 164,\n",
       " 'skills': 165,\n",
       " 'out': 166,\n",
       " 'love': 167,\n",
       " 'want': 168,\n",
       " 'wonderful': 169,\n",
       " 'teacher': 170,\n",
       " 'world': 171,\n",
       " 'because': 172,\n",
       " 'deep': 173,\n",
       " 'little': 174,\n",
       " 'simple': 175,\n",
       " 'topics': 176,\n",
       " 'now': 177,\n",
       " 'those': 178,\n",
       " 'their': 179,\n",
       " 'real': 180,\n",
       " 'fun': 181,\n",
       " 'every': 182,\n",
       " 'need': 183,\n",
       " 'anyone': 184,\n",
       " \"i'm\": 185,\n",
       " 'any': 186,\n",
       " 'week': 187,\n",
       " 'follow': 188,\n",
       " 'he': 189,\n",
       " 'taught': 190,\n",
       " 'them': 191,\n",
       " 'exercises': 192,\n",
       " 'practice': 193,\n",
       " 'when': 194,\n",
       " 'feel': 195,\n",
       " 'overall': 196,\n",
       " 'students': 197,\n",
       " 'found': 198,\n",
       " 'us': 199,\n",
       " 'complete': 200,\n",
       " 'different': 201,\n",
       " 'ng': 202,\n",
       " 'las': 203,\n",
       " 'level': 204,\n",
       " 'learnt': 205,\n",
       " 'part': 206,\n",
       " 'video': 207,\n",
       " 'challenging': 208,\n",
       " 'assignment': 209,\n",
       " \"i've\": 210,\n",
       " 'after': 211,\n",
       " 'definitely': 212,\n",
       " 'did': 213,\n",
       " 'looking': 214,\n",
       " 'quite': 215,\n",
       " 'tools': 216,\n",
       " 'these': 217,\n",
       " 'beginner': 218,\n",
       " 'using': 219,\n",
       " 'however': 220,\n",
       " 'con': 221,\n",
       " 'important': 222,\n",
       " 'online': 223,\n",
       " 'recommended': 224,\n",
       " 'lo': 225,\n",
       " 'field': 226,\n",
       " 'each': 227,\n",
       " 'language': 228,\n",
       " 'everything': 229,\n",
       " 'his': 230,\n",
       " 'everyone': 231,\n",
       " 'gives': 232,\n",
       " 'forward': 233,\n",
       " 'questions': 234,\n",
       " 'able': 235,\n",
       " 'done': 236,\n",
       " 'being': 237,\n",
       " 'structured': 238,\n",
       " 'ai': 239,\n",
       " 'before': 240,\n",
       " 'difficult': 241,\n",
       " 'e': 242,\n",
       " 'liked': 243,\n",
       " 'quizzes': 244,\n",
       " 'especially': 245,\n",
       " 'explanation': 246,\n",
       " 'job': 247,\n",
       " 'overview': 248,\n",
       " 'taking': 249,\n",
       " 'give': 250,\n",
       " 'go': 251,\n",
       " 'our': 252,\n",
       " 'excel': 253,\n",
       " 'makes': 254,\n",
       " 'got': 255,\n",
       " 'project': 256,\n",
       " 'topic': 257,\n",
       " 'se': 258,\n",
       " 'study': 259,\n",
       " \"don't\": 260,\n",
       " 'fantastic': 261,\n",
       " 'used': 262,\n",
       " 'perfect': 263,\n",
       " 'provided': 264,\n",
       " 'hard': 265,\n",
       " 'specialization': 266,\n",
       " 'though': 267,\n",
       " 'presented': 268,\n",
       " 'instructors': 269,\n",
       " 'materials': 270,\n",
       " 'subject': 271,\n",
       " 'prof': 272,\n",
       " 'ever': 273,\n",
       " 'engaging': 274,\n",
       " 'university': 275,\n",
       " 'por': 276,\n",
       " 'code': 277,\n",
       " 'interested': 278,\n",
       " 'see': 279,\n",
       " 'ml': 280,\n",
       " 'thought': 281,\n",
       " 'helps': 282,\n",
       " 'improve': 283,\n",
       " 'while': 284,\n",
       " 'still': 285,\n",
       " 'enough': 286,\n",
       " 'gracias': 287,\n",
       " 'una': 288,\n",
       " 'point': 289,\n",
       " 'problems': 290,\n",
       " 'without': 291,\n",
       " 'making': 292,\n",
       " 'future': 293,\n",
       " 'own': 294,\n",
       " 'neural': 295,\n",
       " 'opportunity': 296,\n",
       " 'doing': 297,\n",
       " 'team': 298,\n",
       " 'step': 299,\n",
       " 'gave': 300,\n",
       " 'already': 301,\n",
       " 'background': 302,\n",
       " 'techniques': 303,\n",
       " 'business': 304,\n",
       " 'introductory': 305,\n",
       " 'explanations': 306,\n",
       " 'wish': 307,\n",
       " 'designed': 308,\n",
       " 'next': 309,\n",
       " 'given': 310,\n",
       " 'find': 311,\n",
       " 'chuck': 312,\n",
       " 'google': 313,\n",
       " 'reading': 314,\n",
       " 'where': 315,\n",
       " 'going': 316,\n",
       " 'end': 317,\n",
       " 'lecture': 318,\n",
       " 'taken': 319,\n",
       " 'student': 320,\n",
       " 'extremely': 321,\n",
       " 'buen': 322,\n",
       " '5': 323,\n",
       " 'career': 324,\n",
       " 'few': 325,\n",
       " 'must': 326,\n",
       " '2': 327,\n",
       " 'something': 328,\n",
       " 'lessons': 329,\n",
       " 'r': 330,\n",
       " 'este': 331,\n",
       " 'como': 332,\n",
       " 'o': 333,\n",
       " 'never': 334,\n",
       " 'took': 335,\n",
       " 'hands': 336,\n",
       " 'worth': 337,\n",
       " 'hope': 338,\n",
       " 'right': 339,\n",
       " 'review': 340,\n",
       " 'happy': 341,\n",
       " 'started': 342,\n",
       " 'final': 343,\n",
       " 'short': 344,\n",
       " 'thing': 345,\n",
       " 'detailed': 346,\n",
       " 'lots': 347,\n",
       " 'approach': 348,\n",
       " 'design': 349,\n",
       " 'depth': 350,\n",
       " 'does': 351,\n",
       " 'quality': 352,\n",
       " 'management': 353,\n",
       " 'covered': 354,\n",
       " 'provides': 355,\n",
       " 'actually': 356,\n",
       " '3': 357,\n",
       " 'apply': 358,\n",
       " \"didn't\": 359,\n",
       " 'working': 360,\n",
       " 'then': 361,\n",
       " '4': 362,\n",
       " 'put': 363,\n",
       " 'during': 364,\n",
       " 'clearly': 365,\n",
       " 'marketing': 366,\n",
       " 'theory': 367,\n",
       " 'bien': 368,\n",
       " 'here': 369,\n",
       " 'look': 370,\n",
       " 'say': 371,\n",
       " 'always': 372,\n",
       " 'general': 373,\n",
       " 'someone': 374,\n",
       " 'felt': 375,\n",
       " 'professional': 376,\n",
       " 'teachers': 377,\n",
       " 'keep': 378,\n",
       " 'far': 379,\n",
       " 'coding': 380,\n",
       " 'quiz': 381,\n",
       " 'labs': 382,\n",
       " 'english': 383,\n",
       " 'pretty': 384,\n",
       " 'research': 385,\n",
       " 'writing': 386,\n",
       " 'fundamentals': 387,\n",
       " 'mucho': 388,\n",
       " 'weeks': 389,\n",
       " 'big': 390,\n",
       " 'concept': 391,\n",
       " 'last': 392,\n",
       " 'again': 393,\n",
       " 'process': 394,\n",
       " 'over': 395,\n",
       " 'both': 396,\n",
       " 'easily': 397,\n",
       " 'del': 398,\n",
       " 'idea': 399,\n",
       " 'problem': 400,\n",
       " 'having': 401,\n",
       " 'platform': 402,\n",
       " 'high': 403,\n",
       " 'needed': 404,\n",
       " 'organized': 405,\n",
       " 'myself': 406,\n",
       " 'teach': 407,\n",
       " 'wants': 408,\n",
       " 'why': 409,\n",
       " 'getting': 410,\n",
       " 'valuable': 411,\n",
       " 'starting': 412,\n",
       " 'algorithms': 413,\n",
       " 'thinking': 414,\n",
       " 'same': 415,\n",
       " '1': 416,\n",
       " 'intro': 417,\n",
       " 'networks': 418,\n",
       " 'ideas': 419,\n",
       " 'since': 420,\n",
       " 'super': 421,\n",
       " 'structure': 422,\n",
       " 'program': 423,\n",
       " 'further': 424,\n",
       " 'although': 425,\n",
       " 'may': 426,\n",
       " 'works': 427,\n",
       " 'whole': 428,\n",
       " 'times': 429,\n",
       " 'absolutely': 430,\n",
       " 'support': 431,\n",
       " 'explain': 432,\n",
       " 'sometimes': 433,\n",
       " 'full': 434,\n",
       " 'long': 435,\n",
       " 'sure': 436,\n",
       " 'details': 437,\n",
       " 'insights': 438,\n",
       " 'bueno': 439,\n",
       " 'read': 440,\n",
       " 'complex': 441,\n",
       " 'insight': 442,\n",
       " 'case': 443,\n",
       " 'technical': 444,\n",
       " 'years': 445,\n",
       " 'relevant': 446,\n",
       " 'explaining': 447,\n",
       " 'insightful': 448,\n",
       " 'various': 449,\n",
       " 'effective': 450,\n",
       " 'al': 451,\n",
       " 'two': 452,\n",
       " 'computer': 453,\n",
       " 'journey': 454,\n",
       " 'giving': 455,\n",
       " 'provide': 456,\n",
       " 'etc': 457,\n",
       " 'day': 458,\n",
       " 'continue': 459,\n",
       " 'manner': 460,\n",
       " 'appreciate': 461,\n",
       " 'aspects': 462,\n",
       " 'mi': 463,\n",
       " 'psychology': 464,\n",
       " 'math': 465,\n",
       " 'behind': 466,\n",
       " 'certificate': 467,\n",
       " 'sir': 468,\n",
       " 'explains': 469,\n",
       " 'analysis': 470,\n",
       " 'others': 471,\n",
       " 'aprender': 472,\n",
       " 'más': 473,\n",
       " 'build': 474,\n",
       " 'needs': 475,\n",
       " 'related': 476,\n",
       " 'professors': 477,\n",
       " 'comprehensive': 478,\n",
       " 'muchas': 479,\n",
       " 'completed': 480,\n",
       " 'person': 481,\n",
       " 'mind': 482,\n",
       " 'financial': 483,\n",
       " 'development': 484,\n",
       " 'projects': 485,\n",
       " 'tips': 486,\n",
       " 'covers': 487,\n",
       " 'teaches': 488,\n",
       " 'providing': 489,\n",
       " 'classes': 490,\n",
       " 'detail': 491,\n",
       " 'stuff': 492,\n",
       " 'rather': 493,\n",
       " 'resources': 494,\n",
       " 'personal': 495,\n",
       " 'foundation': 496,\n",
       " 'available': 497,\n",
       " 'cloud': 498,\n",
       " 'another': 499,\n",
       " 'web': 500,\n",
       " 'pero': 501,\n",
       " 'studies': 502,\n",
       " 'back': 503,\n",
       " 'terms': 504,\n",
       " 'presentation': 505,\n",
       " 'truly': 506,\n",
       " 'issues': 507,\n",
       " 'effort': 508,\n",
       " 'concise': 509,\n",
       " 'yet': 510,\n",
       " 'example': 511,\n",
       " 'sobre': 512,\n",
       " 'required': 513,\n",
       " 'test': 514,\n",
       " 'try': 515,\n",
       " 'enjoy': 516,\n",
       " 'advanced': 517,\n",
       " 'enjoyable': 518,\n",
       " 'interactive': 519,\n",
       " 'methods': 520,\n",
       " 'peer': 521,\n",
       " 'pace': 522,\n",
       " 'muito': 523,\n",
       " 'between': 524,\n",
       " 'might': 525,\n",
       " \"can't\": 526,\n",
       " 'todo': 527,\n",
       " 'style': 528,\n",
       " 'understandable': 529,\n",
       " 'glad': 530,\n",
       " 'down': 531,\n",
       " 'thoroughly': 532,\n",
       " 'previous': 533,\n",
       " 'together': 534,\n",
       " 'less': 535,\n",
       " 'lab': 536,\n",
       " 'network': 537,\n",
       " 'gain': 538,\n",
       " 'son': 539,\n",
       " 'completo': 540,\n",
       " 'based': 541,\n",
       " 'view': 542,\n",
       " 'school': 543,\n",
       " 'module': 544,\n",
       " 'along': 545,\n",
       " 'interest': 546,\n",
       " 'come': 547,\n",
       " 'focus': 548,\n",
       " 'free': 549,\n",
       " 'training': 550,\n",
       " 'industry': 551,\n",
       " 'discussion': 552,\n",
       " 'expected': 553,\n",
       " 'believe': 554,\n",
       " 'ways': 555,\n",
       " 'applications': 556,\n",
       " 'around': 557,\n",
       " 'contents': 558,\n",
       " 'gcp': 559,\n",
       " 'lecturer': 560,\n",
       " 'perspective': 561,\n",
       " 'possible': 562,\n",
       " 'learners': 563,\n",
       " 'statistics': 564,\n",
       " 'maybe': 565,\n",
       " 'her': 566,\n",
       " 'system': 567,\n",
       " 'write': 568,\n",
       " 'non': 569,\n",
       " 'korean': 570,\n",
       " 'application': 571,\n",
       " 'deeper': 572,\n",
       " 'tensorflow': 573,\n",
       " 'self': 574,\n",
       " 'beginning': 575,\n",
       " 'please': 576,\n",
       " 'brilliant': 577,\n",
       " 'simply': 578,\n",
       " 'change': 579,\n",
       " 'fundamental': 580,\n",
       " 'lesson': 581,\n",
       " 'exercise': 582,\n",
       " 'amount': 583,\n",
       " 'easier': 584,\n",
       " 'mas': 585,\n",
       " 'instructions': 586,\n",
       " 'history': 587,\n",
       " 'kind': 588,\n",
       " 'instead': 589,\n",
       " 'set': 590,\n",
       " 'key': 591,\n",
       " 'finance': 592,\n",
       " 'te': 593,\n",
       " 'health': 594,\n",
       " 'order': 595,\n",
       " 'software': 596,\n",
       " 'grateful': 597,\n",
       " 'digital': 598,\n",
       " 'become': 599,\n",
       " 'analytics': 600,\n",
       " \"doesn't\": 601,\n",
       " 'и': 602,\n",
       " 'interesante': 603,\n",
       " 'gained': 604,\n",
       " 'social': 605,\n",
       " 'finish': 606,\n",
       " 'models': 607,\n",
       " 'fast': 608,\n",
       " 'book': 609,\n",
       " 'mr': 610,\n",
       " 'skill': 611,\n",
       " 'she': 612,\n",
       " 'slides': 613,\n",
       " 'mooc': 614,\n",
       " 'building': 615,\n",
       " 'several': 616,\n",
       " 'completing': 617,\n",
       " 'matlab': 618,\n",
       " 'positive': 619,\n",
       " 'notes': 620,\n",
       " 'ibm': 621,\n",
       " 'thorough': 622,\n",
       " 'stars': 623,\n",
       " 'trying': 624,\n",
       " 'throughout': 625,\n",
       " 'totally': 626,\n",
       " 'herramientas': 627,\n",
       " 'bastante': 628,\n",
       " 'tests': 629,\n",
       " 'sense': 630,\n",
       " 'solid': 631,\n",
       " 'entender': 632,\n",
       " 'add': 633,\n",
       " 'series': 634,\n",
       " 'points': 635,\n",
       " 'studying': 636,\n",
       " 'nicely': 637,\n",
       " 'interviews': 638,\n",
       " 'answer': 639,\n",
       " 'grasp': 640,\n",
       " 'second': 641,\n",
       " 'confident': 642,\n",
       " 'answers': 643,\n",
       " 'forma': 644,\n",
       " 'parts': 645,\n",
       " 'charles': 646,\n",
       " 'functions': 647,\n",
       " 'least': 648,\n",
       " 'towards': 649,\n",
       " 'almost': 650,\n",
       " \"i'd\": 651,\n",
       " 'et': 652,\n",
       " 'brain': 653,\n",
       " 'seems': 654,\n",
       " 'manera': 655,\n",
       " 'solve': 656,\n",
       " 'daily': 657,\n",
       " 'confidence': 658,\n",
       " 'ya': 659,\n",
       " 'improved': 660,\n",
       " 'implement': 661,\n",
       " 'learner': 662,\n",
       " 'sql': 663,\n",
       " 'conocimientos': 664,\n",
       " 'ha': 665,\n",
       " 'anything': 666,\n",
       " 'cool': 667,\n",
       " 'cours': 668,\n",
       " 'necessary': 669,\n",
       " 'temas': 670,\n",
       " 'value': 671,\n",
       " 'friendly': 672,\n",
       " 'suggest': 673,\n",
       " '10': 674,\n",
       " 'mathematical': 675,\n",
       " 'off': 676,\n",
       " 'курс': 677,\n",
       " 'additional': 678,\n",
       " 'forums': 679,\n",
       " 'aprendizaje': 680,\n",
       " 'current': 681,\n",
       " 'tough': 682,\n",
       " 'información': 683,\n",
       " 'readings': 684,\n",
       " 'once': 685,\n",
       " 'hours': 686,\n",
       " 'understood': 687,\n",
       " 'boring': 688,\n",
       " 'create': 689,\n",
       " 'theoretical': 690,\n",
       " 'cases': 691,\n",
       " 'familiar': 692,\n",
       " 'develop': 693,\n",
       " 'completely': 694,\n",
       " 'essential': 695,\n",
       " 'small': 696,\n",
       " \"you're\": 697,\n",
       " 'wanted': 698,\n",
       " 'strongly': 699,\n",
       " \"that's\": 700,\n",
       " 'prior': 701,\n",
       " 'nothing': 702,\n",
       " 'excited': 703,\n",
       " 'knowledgeable': 704,\n",
       " 'forum': 705,\n",
       " 'model': 706,\n",
       " 'tool': 707,\n",
       " 'probably': 708,\n",
       " 'gran': 709,\n",
       " 'knew': 710,\n",
       " 'appreciated': 711,\n",
       " 'tasks': 712,\n",
       " 'yourself': 713,\n",
       " 'food': 714,\n",
       " 'principles': 715,\n",
       " 'entire': 716,\n",
       " 'bad': 717,\n",
       " 'involved': 718,\n",
       " 'outstanding': 719,\n",
       " 'в': 720,\n",
       " 'education': 721,\n",
       " 'method': 722,\n",
       " 'regarding': 723,\n",
       " '100': 724,\n",
       " 'todos': 725,\n",
       " 'deal': 726,\n",
       " 'wrong': 727,\n",
       " 'matter': 728,\n",
       " 'question': 729,\n",
       " 'feedback': 730,\n",
       " 'due': 731,\n",
       " 'prepared': 732,\n",
       " 'technology': 733,\n",
       " 'practices': 734,\n",
       " 'place': 735,\n",
       " 'su': 736,\n",
       " 'correct': 737,\n",
       " 'art': 738,\n",
       " 'linear': 739,\n",
       " 'si': 740,\n",
       " 'scratch': 741,\n",
       " 'profesor': 742,\n",
       " 'delivered': 743,\n",
       " 'rest': 744,\n",
       " 'applied': 745,\n",
       " 'modules': 746,\n",
       " 'section': 747,\n",
       " 'actual': 748,\n",
       " 'wait': 749,\n",
       " 'often': 750,\n",
       " 'otherwise': 751,\n",
       " 'cover': 752,\n",
       " 'esta': 753,\n",
       " 'area': 754,\n",
       " 'human': 755,\n",
       " 'specific': 756,\n",
       " 'words': 757,\n",
       " 'graded': 758,\n",
       " 'mejor': 759,\n",
       " 'algebra': 760,\n",
       " 'changed': 761,\n",
       " 'seen': 762,\n",
       " 'finally': 763,\n",
       " 'le': 764,\n",
       " 'takes': 765,\n",
       " 'him': 766,\n",
       " 'mathematics': 767,\n",
       " 'recomiendo': 768,\n",
       " 'fact': 769,\n",
       " 'paced': 770,\n",
       " 'within': 771,\n",
       " 'open': 772,\n",
       " 'creating': 773,\n",
       " 'útil': 774,\n",
       " 'severance': 775,\n",
       " 'confusing': 776,\n",
       " 'conceptos': 777,\n",
       " 'beneficial': 778,\n",
       " 'com': 779,\n",
       " 'exceptional': 780,\n",
       " 'main': 781,\n",
       " 'inspiring': 782,\n",
       " 'law': 783,\n",
       " 'steps': 784,\n",
       " 'focused': 785,\n",
       " 'introduced': 786,\n",
       " 'environment': 787,\n",
       " 'fue': 788,\n",
       " 'les': 789,\n",
       " 'watch': 790,\n",
       " 'contenido': 791,\n",
       " 'opinion': 792,\n",
       " 'alot': 793,\n",
       " 'exciting': 794,\n",
       " 'helping': 795,\n",
       " 'challenges': 796,\n",
       " 'format': 797,\n",
       " 'finished': 798,\n",
       " 'complicated': 799,\n",
       " 'refresher': 800,\n",
       " 'challenge': 801,\n",
       " 'ser': 802,\n",
       " 'updated': 803,\n",
       " 'instruction': 804,\n",
       " 'delivery': 805,\n",
       " 'c': 806,\n",
       " 'college': 807,\n",
       " 'spent': 808,\n",
       " 'hand': 809,\n",
       " 'strong': 810,\n",
       " 'vida': 811,\n",
       " 'happiness': 812,\n",
       " 'sin': 813,\n",
       " 'mis': 814,\n",
       " 'superb': 815,\n",
       " 'base': 816,\n",
       " 'ones': 817,\n",
       " 'personally': 818,\n",
       " 'subjects': 819,\n",
       " 'excelent': 820,\n",
       " 'itself': 821,\n",
       " 'aprendí': 822,\n",
       " 'incredible': 823,\n",
       " 'thankful': 824,\n",
       " 'satisfied': 825,\n",
       " 'info': 826,\n",
       " 'difficulty': 827,\n",
       " 'extra': 828,\n",
       " 'eye': 829,\n",
       " 'pass': 830,\n",
       " 'educational': 831,\n",
       " 'buena': 832,\n",
       " 'poder': 833,\n",
       " 'fácil': 834,\n",
       " 'said': 835,\n",
       " 'quickly': 836,\n",
       " 'goes': 837,\n",
       " 'particularly': 838,\n",
       " 'très': 839,\n",
       " 'experienced': 840,\n",
       " 'user': 841,\n",
       " 'cannot': 842,\n",
       " 'errors': 843,\n",
       " 'structures': 844,\n",
       " 'friends': 845,\n",
       " 'areas': 846,\n",
       " 'intuitive': 847,\n",
       " 'strategies': 848,\n",
       " 'days': 849,\n",
       " 'everybody': 850,\n",
       " 'personas': 851,\n",
       " 'away': 852,\n",
       " 'da': 853,\n",
       " 'barbara': 854,\n",
       " 'scientist': 855,\n",
       " 'certain': 856,\n",
       " 'written': 857,\n",
       " 'worked': 858,\n",
       " 'attention': 859,\n",
       " 'top': 860,\n",
       " 'accessible': 861,\n",
       " 'quick': 862,\n",
       " 'slow': 863,\n",
       " 'sharing': 864,\n",
       " 'nos': 865,\n",
       " 'implementation': 866,\n",
       " 'professionals': 867,\n",
       " 'access': 868,\n",
       " 'mentors': 869,\n",
       " 'explore': 870,\n",
       " 'solving': 871,\n",
       " 'tema': 872,\n",
       " \"wasn't\": 873,\n",
       " 'scientific': 874,\n",
       " 'old': 875,\n",
       " 'engineering': 876,\n",
       " 'offered': 877,\n",
       " 'cada': 878,\n",
       " 'intuition': 879,\n",
       " 'expect': 880,\n",
       " 'product': 881,\n",
       " 'came': 882,\n",
       " 'indeed': 883,\n",
       " 'poco': 884,\n",
       " 'efforts': 885,\n",
       " 'fully': 886,\n",
       " 'core': 887,\n",
       " 'links': 888,\n",
       " 'g': 889,\n",
       " 'networking': 890,\n",
       " 'exactly': 891,\n",
       " 'sessions': 892,\n",
       " 'across': 893,\n",
       " 'optional': 894,\n",
       " 'не': 895,\n",
       " 'grammar': 896,\n",
       " 'tener': 897,\n",
       " 'methodology': 898,\n",
       " 'energy': 899,\n",
       " 'special': 900,\n",
       " 'claro': 901,\n",
       " 'session': 902,\n",
       " 'algorithm': 903,\n",
       " 'included': 904,\n",
       " 'huge': 905,\n",
       " 'watching': 906,\n",
       " 'homework': 907,\n",
       " 'brief': 908,\n",
       " 'went': 909,\n",
       " 'lecturers': 910,\n",
       " 'internet': 911,\n",
       " 'specially': 912,\n",
       " 'feeling': 913,\n",
       " 'efficient': 914,\n",
       " 'é': 915,\n",
       " 'text': 916,\n",
       " 'ayuda': 917,\n",
       " 'following': 918,\n",
       " 'services': 919,\n",
       " 'including': 920,\n",
       " 'calculus': 921,\n",
       " 'intermediate': 922,\n",
       " 'chance': 923,\n",
       " 'begin': 924,\n",
       " 'multiple': 925,\n",
       " 'fascinating': 926,\n",
       " 'spend': 927,\n",
       " 'remember': 928,\n",
       " 'star': 929,\n",
       " 'applying': 930,\n",
       " 'u': 931,\n",
       " 'later': 932,\n",
       " 'discussed': 933,\n",
       " 'explicado': 934,\n",
       " 'staff': 935,\n",
       " 'version': 936,\n",
       " '6': 937,\n",
       " 'seem': 938,\n",
       " 'side': 939,\n",
       " 'benefit': 940,\n",
       " 'knowing': 941,\n",
       " 'issue': 942,\n",
       " 'plus': 943,\n",
       " 'planning': 944,\n",
       " 'music': 945,\n",
       " 'putting': 946,\n",
       " 'advice': 947,\n",
       " 'money': 948,\n",
       " 'added': 949,\n",
       " 'mistakes': 950,\n",
       " 'conocimiento': 951,\n",
       " 'aws': 952,\n",
       " 'properly': 953,\n",
       " 'pandas': 954,\n",
       " 'um': 955,\n",
       " 'cosas': 956,\n",
       " 'accounting': 957,\n",
       " 'modern': 958,\n",
       " 'os': 959,\n",
       " 'particular': 960,\n",
       " 'effectively': 961,\n",
       " 'à': 962,\n",
       " 'show': 963,\n",
       " 'line': 964,\n",
       " 'plan': 965,\n",
       " 'beautiful': 966,\n",
       " 'html': 967,\n",
       " 'ability': 968,\n",
       " 'seemed': 969,\n",
       " 'type': 970,\n",
       " 'include': 971,\n",
       " 'grading': 972,\n",
       " 'reason': 973,\n",
       " 'longer': 974,\n",
       " 'let': 975,\n",
       " 'seo': 976,\n",
       " 'pay': 977,\n",
       " 'recomendado': 978,\n",
       " 'communication': 979,\n",
       " 'mostly': 980,\n",
       " \"i'll\": 981,\n",
       " 'until': 982,\n",
       " 'aspect': 983,\n",
       " 'role': 984,\n",
       " 'flow': 985,\n",
       " 'chinese': 986,\n",
       " 'bom': 987,\n",
       " 'changing': 988,\n",
       " 'guidance': 989,\n",
       " 'notebooks': 990,\n",
       " 'ok': 991,\n",
       " 'guide': 992,\n",
       " 'dive': 993,\n",
       " 'word': 994,\n",
       " 'number': 995,\n",
       " 'listen': 996,\n",
       " 'activities': 997,\n",
       " 'certainly': 998,\n",
       " 'systems': 999,\n",
       " 'importance': 1000,\n",
       " ...}"
      ]
     },
     "execution_count": 57,
     "metadata": {},
     "output_type": "execute_result"
    }
   ],
   "source": [
    "word_index=t.word_index\n",
    "word_index"
   ]
  },
  {
   "cell_type": "code",
   "execution_count": 58,
   "metadata": {},
   "outputs": [],
   "source": [
    "df['reviews']=t.texts_to_sequences(df['reviews'])"
   ]
  },
  {
   "cell_type": "code",
   "execution_count": 59,
   "metadata": {},
   "outputs": [],
   "source": [
    "X_train,X_test,y_train,y_test = train_test_split(df['reviews'],df['rating'], test_size = 0.2)"
   ]
  },
  {
   "cell_type": "code",
   "execution_count": 60,
   "metadata": {},
   "outputs": [
    {
     "name": "stdout",
     "output_type": "stream",
     "text": [
      "1314\n",
      "0\n"
     ]
    }
   ],
   "source": [
    "review_length = [len(x) for x in X_train]\n",
    "print(max(review_length))\n",
    "print(min(review_length))"
   ]
  },
  {
   "cell_type": "code",
   "execution_count": 61,
   "metadata": {},
   "outputs": [],
   "source": [
    "from tensorflow.keras.preprocessing import sequence"
   ]
  },
  {
   "cell_type": "code",
   "execution_count": 62,
   "metadata": {},
   "outputs": [],
   "source": [
    "input_limit = 500 \n",
    "X_train = sequence.pad_sequences(X_train,maxlen=input_limit) \n",
    "X_test = sequence.pad_sequences(X_test,maxlen=input_limit)"
   ]
  },
  {
   "cell_type": "code",
   "execution_count": 63,
   "metadata": {},
   "outputs": [
    {
     "data": {
      "text/plain": [
       "array([4, 5, 1, 3, 2], dtype=int64)"
      ]
     },
     "execution_count": 63,
     "metadata": {},
     "output_type": "execute_result"
    }
   ],
   "source": [
    "y_train.unique()"
   ]
  },
  {
   "cell_type": "code",
   "execution_count": 64,
   "metadata": {},
   "outputs": [
    {
     "name": "stdout",
     "output_type": "stream",
     "text": [
      "4\n"
     ]
    }
   ],
   "source": [
    "print(y_train[0])"
   ]
  },
  {
   "cell_type": "code",
   "execution_count": 65,
   "metadata": {},
   "outputs": [],
   "source": [
    "from tensorflow.keras.utils import to_categorical"
   ]
  },
  {
   "cell_type": "code",
   "execution_count": 66,
   "metadata": {},
   "outputs": [],
   "source": [
    "y_train = to_categorical(y_train-1,num_classes=5)"
   ]
  },
  {
   "cell_type": "code",
   "execution_count": 67,
   "metadata": {},
   "outputs": [],
   "source": [
    "y_test = to_categorical(y_test-1,num_classes=5)"
   ]
  },
  {
   "cell_type": "code",
   "execution_count": 68,
   "metadata": {},
   "outputs": [
    {
     "data": {
      "text/plain": [
       "array([0., 0., 0., 1., 0.], dtype=float32)"
      ]
     },
     "execution_count": 68,
     "metadata": {},
     "output_type": "execute_result"
    }
   ],
   "source": [
    "y_train[0]"
   ]
  },
  {
   "cell_type": "code",
   "execution_count": 69,
   "metadata": {},
   "outputs": [],
   "source": [
    "X_test,X_valid, y_test, y_valid = train_test_split(X_test, y_test, test_size=0.5)"
   ]
  },
  {
   "cell_type": "code",
   "execution_count": 70,
   "metadata": {},
   "outputs": [],
   "source": [
    "def create_model():\n",
    "    model = Sequential()\n",
    "    model.add(Embedding(input_dim=MAX_WORDS, output_dim=16,input_length=input_limit))\n",
    "    model.add(Flatten())\n",
    "    model.add(Dense(100,activation='relu'))\n",
    "    model.add(Dense(5,activation='softmax'))\n",
    "    return model"
   ]
  },
  {
   "cell_type": "code",
   "execution_count": 71,
   "metadata": {},
   "outputs": [],
   "source": [
    "model = create_model()"
   ]
  },
  {
   "cell_type": "code",
   "execution_count": 72,
   "metadata": {},
   "outputs": [
    {
     "name": "stdout",
     "output_type": "stream",
     "text": [
      "Model: \"sequential\"\n",
      "_________________________________________________________________\n",
      "Layer (type)                 Output Shape              Param #   \n",
      "=================================================================\n",
      "embedding (Embedding)        (None, 500, 16)           128000    \n",
      "_________________________________________________________________\n",
      "flatten (Flatten)            (None, 8000)              0         \n",
      "_________________________________________________________________\n",
      "dense (Dense)                (None, 100)               800100    \n",
      "_________________________________________________________________\n",
      "dense_1 (Dense)              (None, 5)                 505       \n",
      "=================================================================\n",
      "Total params: 928,605\n",
      "Trainable params: 928,605\n",
      "Non-trainable params: 0\n",
      "_________________________________________________________________\n"
     ]
    }
   ],
   "source": [
    "model.compile(optimizer='adam',metrics=['accuracy'],loss='categorical_crossentropy')\n",
    "model.summary()"
   ]
  },
  {
   "cell_type": "code",
   "execution_count": 73,
   "metadata": {},
   "outputs": [
    {
     "name": "stdout",
     "output_type": "stream",
     "text": [
      "Epoch 1/10\n",
      "18183/18183 [==============================] - 174s 10ms/step - loss: 0.4801 - accuracy: 0.8266 - val_loss: 0.4488 - val_accuracy: 0.8369\n",
      "Epoch 2/10\n",
      "18183/18183 [==============================] - 179s 10ms/step - loss: 0.4101 - accuracy: 0.8517 - val_loss: 0.4150 - val_accuracy: 0.8519\n",
      "Epoch 3/10\n",
      "18183/18183 [==============================] - 168s 9ms/step - loss: 0.3631 - accuracy: 0.8704 - val_loss: 0.3912 - val_accuracy: 0.8640\n",
      "Epoch 4/10\n",
      "18183/18183 [==============================] - 169s 9ms/step - loss: 0.3315 - accuracy: 0.8827 - val_loss: 0.3759 - val_accuracy: 0.8719\n",
      "Epoch 5/10\n",
      "18183/18183 [==============================] - 170s 9ms/step - loss: 0.3088 - accuracy: 0.8911 - val_loss: 0.3680 - val_accuracy: 0.8772\n",
      "Epoch 6/10\n",
      "18183/18183 [==============================] - 172s 9ms/step - loss: 0.2908 - accuracy: 0.8982 - val_loss: 0.3665 - val_accuracy: 0.8819\n",
      "Epoch 7/10\n",
      "18183/18183 [==============================] - 174s 10ms/step - loss: 0.2771 - accuracy: 0.9031 - val_loss: 0.3617 - val_accuracy: 0.8868\n",
      "Epoch 8/10\n",
      "18183/18183 [==============================] - 166s 9ms/step - loss: 0.2657 - accuracy: 0.9075 - val_loss: 0.3601 - val_accuracy: 0.8902\n",
      "Epoch 9/10\n",
      "18183/18183 [==============================] - 160s 9ms/step - loss: 0.2564 - accuracy: 0.9108 - val_loss: 0.3594 - val_accuracy: 0.8920\n",
      "Epoch 10/10\n",
      "18183/18183 [==============================] - 164s 9ms/step - loss: 0.2486 - accuracy: 0.9138 - val_loss: 0.3581 - val_accuracy: 0.8962\n"
     ]
    },
    {
     "data": {
      "text/plain": [
       "<tensorflow.python.keras.callbacks.History at 0x24da25d3288>"
      ]
     },
     "execution_count": 73,
     "metadata": {},
     "output_type": "execute_result"
    }
   ],
   "source": [
    "model_checkpoint = ModelCheckpoint('best.hdf5',save_best_only=True)\n",
    "model.fit(X_train,y_train, validation_data=(X_valid,y_valid),batch_size=64, epochs=10, callbacks=[model_checkpoint])"
   ]
  },
  {
   "cell_type": "code",
   "execution_count": 74,
   "metadata": {},
   "outputs": [
    {
     "name": "stdout",
     "output_type": "stream",
     "text": [
      "4546/4546 [==============================] - ETA: 0s - loss: 0.3573 - accuracy: 0.89 - 7s 2ms/step - loss: 0.3577 - accuracy: 0.8950\n"
     ]
    },
    {
     "data": {
      "text/plain": [
       "0.8949723839759827"
      ]
     },
     "execution_count": 74,
     "metadata": {},
     "output_type": "execute_result"
    }
   ],
   "source": [
    "model.load_weights('best.hdf5')\n",
    "score= model.evaluate(X_test,y_test)\n",
    "score[1]"
   ]
  },
  {
   "cell_type": "code",
   "execution_count": 75,
   "metadata": {},
   "outputs": [],
   "source": [
    "reviews_df = pd.read_csv('Dataset/Coursera_reviews.csv')"
   ]
  },
  {
   "cell_type": "code",
   "execution_count": 76,
   "metadata": {},
   "outputs": [],
   "source": [
    "reviews_df.drop([\"reviewers\",\"reviewers\",\"course_id\",\"date_reviews\"], axis=1, inplace=True)"
   ]
  },
  {
   "cell_type": "code",
   "execution_count": 77,
   "metadata": {},
   "outputs": [
    {
     "data": {
      "text/html": [
       "<div>\n",
       "<style scoped>\n",
       "    .dataframe tbody tr th:only-of-type {\n",
       "        vertical-align: middle;\n",
       "    }\n",
       "\n",
       "    .dataframe tbody tr th {\n",
       "        vertical-align: top;\n",
       "    }\n",
       "\n",
       "    .dataframe thead th {\n",
       "        text-align: right;\n",
       "    }\n",
       "</style>\n",
       "<table border=\"1\" class=\"dataframe\">\n",
       "  <thead>\n",
       "    <tr style=\"text-align: right;\">\n",
       "      <th></th>\n",
       "      <th>reviews</th>\n",
       "      <th>rating</th>\n",
       "    </tr>\n",
       "  </thead>\n",
       "  <tbody>\n",
       "    <tr>\n",
       "      <th>0</th>\n",
       "      <td>Pretty dry, but I was able to pass with just t...</td>\n",
       "      <td>4</td>\n",
       "    </tr>\n",
       "    <tr>\n",
       "      <th>1</th>\n",
       "      <td>would be a better experience if the video and ...</td>\n",
       "      <td>4</td>\n",
       "    </tr>\n",
       "    <tr>\n",
       "      <th>2</th>\n",
       "      <td>Information was perfect! The program itself wa...</td>\n",
       "      <td>4</td>\n",
       "    </tr>\n",
       "    <tr>\n",
       "      <th>3</th>\n",
       "      <td>A few grammatical mistakes on test made me do ...</td>\n",
       "      <td>4</td>\n",
       "    </tr>\n",
       "    <tr>\n",
       "      <th>4</th>\n",
       "      <td>Excellent course and the training provided was...</td>\n",
       "      <td>4</td>\n",
       "    </tr>\n",
       "  </tbody>\n",
       "</table>\n",
       "</div>"
      ],
      "text/plain": [
       "                                             reviews  rating\n",
       "0  Pretty dry, but I was able to pass with just t...       4\n",
       "1  would be a better experience if the video and ...       4\n",
       "2  Information was perfect! The program itself wa...       4\n",
       "3  A few grammatical mistakes on test made me do ...       4\n",
       "4  Excellent course and the training provided was...       4"
      ]
     },
     "execution_count": 77,
     "metadata": {},
     "output_type": "execute_result"
    }
   ],
   "source": [
    "reviews_df.head()"
   ]
  },
  {
   "cell_type": "code",
   "execution_count": 78,
   "metadata": {},
   "outputs": [],
   "source": [
    "reviews_df.dropna(inplace=True)"
   ]
  },
  {
   "cell_type": "code",
   "execution_count": 79,
   "metadata": {},
   "outputs": [],
   "source": [
    "reviews_df[\"split\"] = reviews_df.apply(lambda x: \"train\" if random.randrange(0,100) > 10 else \"valid\", axis=1)"
   ]
  },
  {
   "cell_type": "code",
   "execution_count": 80,
   "metadata": {},
   "outputs": [
    {
     "data": {
      "text/plain": [
       "train    1295004\n",
       "valid     159567\n",
       "Name: split, dtype: int64"
      ]
     },
     "execution_count": 80,
     "metadata": {},
     "output_type": "execute_result"
    }
   ],
   "source": [
    "reviews_df[\"split\"].value_counts()"
   ]
  },
  {
   "cell_type": "code",
   "execution_count": 81,
   "metadata": {},
   "outputs": [],
   "source": [
    "df_train = reviews_df[reviews_df[\"split\"] == \"train\"]\n",
    "df_val = reviews_df[reviews_df[\"split\"] == \"valid\"]"
   ]
  },
  {
   "cell_type": "code",
   "execution_count": 82,
   "metadata": {},
   "outputs": [
    {
     "data": {
      "text/html": [
       "<div>\n",
       "<style scoped>\n",
       "    .dataframe tbody tr th:only-of-type {\n",
       "        vertical-align: middle;\n",
       "    }\n",
       "\n",
       "    .dataframe tbody tr th {\n",
       "        vertical-align: top;\n",
       "    }\n",
       "\n",
       "    .dataframe thead th {\n",
       "        text-align: right;\n",
       "    }\n",
       "</style>\n",
       "<table border=\"1\" class=\"dataframe\">\n",
       "  <thead>\n",
       "    <tr style=\"text-align: right;\">\n",
       "      <th></th>\n",
       "      <th>reviews</th>\n",
       "      <th>rating</th>\n",
       "      <th>split</th>\n",
       "    </tr>\n",
       "  </thead>\n",
       "  <tbody>\n",
       "    <tr>\n",
       "      <th>0</th>\n",
       "      <td>Pretty dry, but I was able to pass with just t...</td>\n",
       "      <td>4</td>\n",
       "      <td>train</td>\n",
       "    </tr>\n",
       "    <tr>\n",
       "      <th>1</th>\n",
       "      <td>would be a better experience if the video and ...</td>\n",
       "      <td>4</td>\n",
       "      <td>train</td>\n",
       "    </tr>\n",
       "    <tr>\n",
       "      <th>2</th>\n",
       "      <td>Information was perfect! The program itself wa...</td>\n",
       "      <td>4</td>\n",
       "      <td>train</td>\n",
       "    </tr>\n",
       "    <tr>\n",
       "      <th>3</th>\n",
       "      <td>A few grammatical mistakes on test made me do ...</td>\n",
       "      <td>4</td>\n",
       "      <td>train</td>\n",
       "    </tr>\n",
       "    <tr>\n",
       "      <th>4</th>\n",
       "      <td>Excellent course and the training provided was...</td>\n",
       "      <td>4</td>\n",
       "      <td>train</td>\n",
       "    </tr>\n",
       "    <tr>\n",
       "      <th>...</th>\n",
       "      <td>...</td>\n",
       "      <td>...</td>\n",
       "      <td>...</td>\n",
       "    </tr>\n",
       "    <tr>\n",
       "      <th>1454706</th>\n",
       "      <td>g</td>\n",
       "      <td>5</td>\n",
       "      <td>train</td>\n",
       "    </tr>\n",
       "    <tr>\n",
       "      <th>1454707</th>\n",
       "      <td>.</td>\n",
       "      <td>5</td>\n",
       "      <td>train</td>\n",
       "    </tr>\n",
       "    <tr>\n",
       "      <th>1454708</th>\n",
       "      <td>.</td>\n",
       "      <td>5</td>\n",
       "      <td>train</td>\n",
       "    </tr>\n",
       "    <tr>\n",
       "      <th>1454709</th>\n",
       "      <td>.</td>\n",
       "      <td>5</td>\n",
       "      <td>train</td>\n",
       "    </tr>\n",
       "    <tr>\n",
       "      <th>1454710</th>\n",
       "      <td>G</td>\n",
       "      <td>5</td>\n",
       "      <td>train</td>\n",
       "    </tr>\n",
       "  </tbody>\n",
       "</table>\n",
       "<p>1295004 rows × 3 columns</p>\n",
       "</div>"
      ],
      "text/plain": [
       "                                                   reviews  rating  split\n",
       "0        Pretty dry, but I was able to pass with just t...       4  train\n",
       "1        would be a better experience if the video and ...       4  train\n",
       "2        Information was perfect! The program itself wa...       4  train\n",
       "3        A few grammatical mistakes on test made me do ...       4  train\n",
       "4        Excellent course and the training provided was...       4  train\n",
       "...                                                    ...     ...    ...\n",
       "1454706                                                  g       5  train\n",
       "1454707                                                  .       5  train\n",
       "1454708                                                  .       5  train\n",
       "1454709                                                  .       5  train\n",
       "1454710                                                  G       5  train\n",
       "\n",
       "[1295004 rows x 3 columns]"
      ]
     },
     "execution_count": 82,
     "metadata": {},
     "output_type": "execute_result"
    }
   ],
   "source": [
    "df_train"
   ]
  },
  {
   "cell_type": "code",
   "execution_count": 83,
   "metadata": {},
   "outputs": [],
   "source": [
    "tokenizer=Tokenizer(oov_token=\"'oov'\")\n",
    "tokenizer.fit_on_texts(df_train['reviews'])"
   ]
  },
  {
   "cell_type": "code",
   "execution_count": 84,
   "metadata": {},
   "outputs": [],
   "source": [
    "maxlen = 200\n",
    "train_X = pad_sequences(tokenizer.texts_to_sequences(df_train['reviews']), maxlen=maxlen)\n",
    "val_X = pad_sequences(tokenizer.texts_to_sequences(df_val['reviews']), maxlen=maxlen)"
   ]
  },
  {
   "cell_type": "code",
   "execution_count": 85,
   "metadata": {},
   "outputs": [],
   "source": [
    "train_Y = df_train[\"rating\"]\n",
    "val_Y = df_val[\"rating\"]\n",
    "train_Y_cat = to_categorical(df_train[\"rating\"]-1, num_classes=5)\n",
    "val_Y_cat = to_categorical(df_val[\"rating\"]-1, num_classes=5)"
   ]
  },
  {
   "cell_type": "code",
   "execution_count": 86,
   "metadata": {},
   "outputs": [
    {
     "name": "stdout",
     "output_type": "stream",
     "text": [
      "Found 400000 word vectors \n"
     ]
    }
   ],
   "source": [
    "embedding_index = {}\n",
    "f = open(os.path.join('glove.6B.100d.txt'),encoding='utf8')\n",
    "for line in f:\n",
    "    values = line.split()\n",
    "    word = values[0]\n",
    "    coefs = np.asarray(values[1:],dtype='float32')\n",
    "    embedding_index[word] = coefs\n",
    "f.close()\n",
    "print('Found %s word vectors ' % len(embedding_index))"
   ]
  },
  {
   "cell_type": "code",
   "execution_count": 87,
   "metadata": {},
   "outputs": [],
   "source": [
    "max_words = len(tokenizer.word_index) + 1\n",
    "embedding_dim = 100\n",
    "embedding_matrix = np.zeros((max_words,embedding_dim))"
   ]
  },
  {
   "cell_type": "code",
   "execution_count": 88,
   "metadata": {},
   "outputs": [],
   "source": [
    "def create_bilstm_model():\n",
    "    model=Sequential()\n",
    "    model.add(Embedding(max_words, embedding_dim, input_length=maxlen, weights=[embedding_matrix], trainable=False))\n",
    "    model.add(Bidirectional(LSTM(32)))\n",
    "    model.add(Dense(16, activation=\"relu\"))\n",
    "    model.add(Dense(1, activation=\"linear\"))\n",
    "    return model"
   ]
  },
  {
   "cell_type": "code",
   "execution_count": 89,
   "metadata": {},
   "outputs": [],
   "source": [
    "model = create_bilstm_model()"
   ]
  },
  {
   "cell_type": "code",
   "execution_count": 90,
   "metadata": {},
   "outputs": [
    {
     "name": "stdout",
     "output_type": "stream",
     "text": [
      "Model: \"sequential_1\"\n",
      "_________________________________________________________________\n",
      "Layer (type)                 Output Shape              Param #   \n",
      "=================================================================\n",
      "embedding_1 (Embedding)      (None, 200, 100)          11153200  \n",
      "_________________________________________________________________\n",
      "bidirectional (Bidirectional (None, 64)                34048     \n",
      "_________________________________________________________________\n",
      "dense_2 (Dense)              (None, 16)                1040      \n",
      "_________________________________________________________________\n",
      "dense_3 (Dense)              (None, 1)                 17        \n",
      "=================================================================\n",
      "Total params: 11,188,305\n",
      "Trainable params: 35,105\n",
      "Non-trainable params: 11,153,200\n",
      "_________________________________________________________________\n",
      "None\n"
     ]
    }
   ],
   "source": [
    "model.compile(optimizer=\"Adam\", loss='mean_squared_error', metrics=['mse'])\n",
    "print(model.summary())"
   ]
  },
  {
   "cell_type": "code",
   "execution_count": 91,
   "metadata": {},
   "outputs": [
    {
     "name": "stdout",
     "output_type": "stream",
     "text": [
      "Epoch 1/10\n",
      "5059/5059 [==============================] - 1976s 391ms/step - loss: 8.2714 - mse: 8.2714 - val_loss: 1.0992 - val_mse: 1.0992\n",
      "Epoch 2/10\n",
      "5059/5059 [==============================] - 2004s 396ms/step - loss: 0.5611 - mse: 0.5611 - val_loss: 0.4845 - val_mse: 0.4845\n",
      "Epoch 3/10\n",
      "5059/5059 [==============================] - 2038s 403ms/step - loss: 0.4880 - mse: 0.4880 - val_loss: 0.4845 - val_mse: 0.4845\n",
      "Epoch 4/10\n",
      "5059/5059 [==============================] - 2064s 408ms/step - loss: 0.4880 - mse: 0.4880 - val_loss: 0.4845 - val_mse: 0.4845\n",
      "Epoch 5/10\n",
      "5059/5059 [==============================] - 2044s 404ms/step - loss: 0.4880 - mse: 0.4880 - val_loss: 0.4845 - val_mse: 0.4845\n",
      "Epoch 6/10\n",
      "5059/5059 [==============================] - 2280s 451ms/step - loss: 0.4880 - mse: 0.4880 - val_loss: 0.4845 - val_mse: 0.4845\n",
      "Epoch 7/10\n",
      "5059/5059 [==============================] - 2128s 421ms/step - loss: 0.4880 - mse: 0.4880 - val_loss: 0.4845 - val_mse: 0.4845\n",
      "Epoch 8/10\n",
      "5059/5059 [==============================] - 2121s 419ms/step - loss: 0.4880 - mse: 0.4880 - val_loss: 0.4845 - val_mse: 0.4845\n",
      "Epoch 9/10\n",
      "5059/5059 [==============================] - 2095s 414ms/step - loss: 0.4880 - mse: 0.4880 - val_loss: 0.4845 - val_mse: 0.4845\n",
      "Epoch 10/10\n",
      "5059/5059 [==============================] - 2101s 415ms/step - loss: 0.4880 - mse: 0.4880 - val_loss: 0.4845 - val_mse: 0.4845\n"
     ]
    },
    {
     "data": {
      "text/plain": [
       "<tensorflow.python.keras.callbacks.History at 0x24e9a4a1348>"
      ]
     },
     "execution_count": 91,
     "metadata": {},
     "output_type": "execute_result"
    }
   ],
   "source": [
    "model.fit(train_X, train_Y, epochs=10, batch_size=256, validation_data=(val_X, val_Y))"
   ]
  },
  {
   "cell_type": "code",
   "execution_count": 92,
   "metadata": {},
   "outputs": [],
   "source": [
    "pred = model.predict(val_X)"
   ]
  },
  {
   "cell_type": "code",
   "execution_count": 93,
   "metadata": {},
   "outputs": [],
   "source": [
    "pred_hard = np.array([round(p[0]) for p in pred])"
   ]
  },
  {
   "cell_type": "code",
   "execution_count": 94,
   "metadata": {},
   "outputs": [],
   "source": [
    "pred_hard[pred_hard < 1] = 1\n",
    "pred_hard[pred_hard > 5] = 5"
   ]
  },
  {
   "cell_type": "code",
   "execution_count": 95,
   "metadata": {},
   "outputs": [
    {
     "data": {
      "text/plain": [
       "array([5.], dtype=float32)"
      ]
     },
     "execution_count": 95,
     "metadata": {},
     "output_type": "execute_result"
    }
   ],
   "source": [
    "np.unique(pred_hard)"
   ]
  },
  {
   "cell_type": "code",
   "execution_count": 96,
   "metadata": {},
   "outputs": [
    {
     "data": {
      "text/plain": [
       "0.7892045347722273"
      ]
     },
     "execution_count": 96,
     "metadata": {},
     "output_type": "execute_result"
    }
   ],
   "source": [
    "accuracy_score(val_Y, pred_hard)"
   ]
  },
  {
   "cell_type": "code",
   "execution_count": null,
   "metadata": {},
   "outputs": [],
   "source": []
  }
 ],
 "metadata": {
  "kernelspec": {
   "display_name": "Python 3",
   "language": "python",
   "name": "python3"
  },
  "language_info": {
   "codemirror_mode": {
    "name": "ipython",
    "version": 3
   },
   "file_extension": ".py",
   "mimetype": "text/x-python",
   "name": "python",
   "nbconvert_exporter": "python",
   "pygments_lexer": "ipython3",
   "version": "3.7.6"
  },
  "papermill": {
   "duration": 145.190425,
   "end_time": "2021-01-05T23:43:29.822564",
   "environment_variables": {},
   "exception": null,
   "input_path": "__notebook__.ipynb",
   "output_path": "__notebook__.ipynb",
   "parameters": {},
   "start_time": "2021-01-05T23:41:04.632139",
   "version": "2.1.0"
  }
 },
 "nbformat": 4,
 "nbformat_minor": 4
}
